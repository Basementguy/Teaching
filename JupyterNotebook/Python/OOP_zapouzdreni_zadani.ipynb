{
  "nbformat": 4,
  "nbformat_minor": 0,
  "metadata": {
    "colab": {
      "name": "OOP_zapouzdreni_zadani.ipynb",
      "provenance": [],
      "collapsed_sections": [],
      "authorship_tag": "ABX9TyOn9uIQl36Jq8GR8euq0St4",
      "include_colab_link": true
    },
    "kernelspec": {
      "name": "python3",
      "display_name": "Python 3"
    },
    "language_info": {
      "name": "python"
    }
  },
  "cells": [
    {
      "cell_type": "markdown",
      "metadata": {
        "id": "view-in-github",
        "colab_type": "text"
      },
      "source": [
        "<a href=\"https://colab.research.google.com/github/JaroslavHolecek/Teaching/blob/master/JupyterNotebook/Python/OOP_zapouzdreni_zadani.ipynb\" target=\"_parent\"><img src=\"https://colab.research.google.com/assets/colab-badge.svg\" alt=\"Open In Colab\"/></a>"
      ]
    },
    {
      "cell_type": "markdown",
      "metadata": {
        "id": "0Emcs3DswX_h"
      },
      "source": [
        "<h1>Zapouzdření</h1>\n",
        "<p>Velmi často chceme, aby hodnoty v atributech objektů byli nějakým způsobem omezeny (např. pozice hráče na obrazovce musí být mezi hodnotami 0 a šířka_obrazovky -> chceme aby hráč byl stále na obrazovce)\n",
        "<p>Tuto vlastnost nemají atributy sami od sebe (mimo jiné Python nezná význam našich atributů a tak nemá jak \"vymyslet\", jaké hodnoty jsou ty správné a jaké ne). Proto, pokud chceme hodnoty atributů omezit, musíe v našem programu říci jak.</p>\n",
        "<p>Na následujících příkladech si podstatu zapouzdření ukážeme pouze na pozici Hráče menší než nula - pozice větší než šířka okna, případně další atributy by byli obdobné.</p>"
      ]
    },
    {
      "cell_type": "code",
      "metadata": {
        "id": "RBiBoG5IGkgX"
      },
      "source": [
        "# Zcela bez ošetření\n",
        "class Hrac:\n",
        "  def __init__(self, x, y, nazev):\n",
        "    self.x = x\n",
        "    self.y = y\n",
        "    self.nazev = nazev\n",
        "\n",
        "  def __str__(self):\n",
        "    return \"Hráč {} je na pozici x:{} y:{}\".format(self.nazev, self.x, self.y)\n",
        "\n",
        "H1 = Hrac(5, -15, \"Žofka\")\n",
        "print(H1)\n",
        "H1.x -= 25\n",
        "print(H1)"
      ],
      "execution_count": null,
      "outputs": []
    },
    {
      "cell_type": "code",
      "source": [
        "# Ošetření v konstruktoru\n",
        "class Hrac:\n",
        "  def __init__(self, x, y, nazev):\n",
        "    self.x = max(x,0) # max(x,0) je fakticky stejné, jako: 0 if x < 0 else x\n",
        "    self.y = max(y,0)\n",
        "    self.nazev = nazev\n",
        "\n",
        "  def __str__(self):\n",
        "    return \"Hráč {} je na pozici x:{} y:{}\".format(self.nazev, self.x, self.y)\n",
        "\n",
        "H1 = Hrac(5, -15, \"Žofka\")\n",
        "print(H1)\n",
        "H1.x -= 25\n",
        "print(H1)"
      ],
      "metadata": {
        "id": "rFDaTroJ9oay"
      },
      "execution_count": null,
      "outputs": []
    },
    {
      "cell_type": "markdown",
      "source": [
        "<h2>Zakrytí atributu</h2>\n",
        "<p>Jak jsme si ukázali výše, často bychom rádi hlídali přístup k atributu (především k zápisu do hodnoty atributu - protože by se do atributu mohla dostat nepřípustná hodnota)</p>\n",
        "<p>Abychom atribut skryli před okolním světem (částí programu mimo třídu) zapíšeme před název atributu dvě podtržítka <code>__</code> (v takovém případě bude atribut viditelný pouze ve své třídě) </p> \n",
        "<p>Někdy uvidíte před názvem proměnné jedno podtržítko <code>_</code> (my ho budeme také používat). To nemá žádný speciální význam - pouze \"varuje\" další programátory, že tato proměnná má ve třídě speciální význam (ať už to znamená cokoliv).</p>"
      ],
      "metadata": {
        "id": "auPFJD5pH5zW"
      }
    },
    {
      "cell_type": "code",
      "source": [
        "class Ukazkova:\n",
        "  def __init__(self, x, y, z):\n",
        "    self.x = x\n",
        "    self._y = y\n",
        "    self.__z = z\n",
        "\n",
        "  def __str__(self): # uvnitř třídy můžeme všechny atributy používat normálně\n",
        "    return \"Ukazkové hodnoty x:{} _y:{} __z:{} \".format(self.x, self._y, self.__z)\n",
        "\n",
        "U1 = Ukazkova(5, 10, 15)\n",
        "print(U1)\n",
        "\n",
        "# Mimo třídu ale můžeme přistupovat pouze k veřejným atributům\n",
        "print(\"x:\",U1.x)\n",
        "print(\"y:\",U1._y)\n",
        "print(\"z:\",U1.__z)"
      ],
      "metadata": {
        "id": "x42dHOuVJBYI"
      },
      "execution_count": null,
      "outputs": []
    },
    {
      "cell_type": "markdown",
      "metadata": {
        "id": "CvOwZNtFyURp"
      },
      "source": [
        "\n",
        "<h2>Property</h2>\n",
        "<p>Pomocí této speciální značky (<code>@property</code> před deklarací funkce) označíme, co se má stát, pokud budeme <strong>číst</strong> hodnotu (dožadovat se od třídy funkce pod <code>@property</code>)</p>\n",
        "<p></p>\n",
        "<h2>Setter</h2>\n",
        "<p>V předchozích příkladech vidíme, že se nám do hodnoty atributu snadno dostane nežádoucí hodnota - buď již při vytváření objektu, nebo později.<br>Při vytváření objektu jsme schopni se bránit ošetřením v konstruktoru.<br>Dále v programu již musíme nasadit účinější nástroj.</p>\n",
        "<p>Tento nástroj se nazývá <strong>setter</strong> a je to funkce, která se spustí pokzaždé, když do atributu zapisujeme hodnotu. V této funkci - setteru - pak můžeme \"pohlídat\" hodnoty, které do atributu skutečně zapíšeme. V kódu tuto speciální setter funkci označíme speciální značkou <code>@atribut.setter</code></p>\n"
      ]
    },
    {
      "cell_type": "code",
      "metadata": {
        "id": "tF7A9k-rJ74-"
      },
      "source": [
        "# Setter\n",
        "# x, y, nazev nejsou ve skutečnosti atributy,\n",
        "#             jsou to funkce @property (při čtení) a .setter (při zápisu)\n",
        "#             které pracují se \"speciálními\" atributy _x, _y, _nazev\n",
        "class Hrac:\n",
        "  def __init__(self, hodnota_x, hodnota_y, nazev):\n",
        "    self.x = hodnota_x # tady už se zavolá setter pro x\n",
        "    self.y = hodnota_y\n",
        "    self.nazev = nazev\n",
        "  \n",
        "  @property # co se má stát, pokud budeme číst x (název funkce)\n",
        "  def x(self):\n",
        "    return self._x\n",
        "\n",
        "  @x.setter # co se má stát, pokud budem vkládat hodnotu do x (název funkce)\n",
        "  def x(self, hodnota):\n",
        "    self._x = max(hodnota, 0) # max(x,0) je fakticky stejné, jako: 0 if x < 0 else x\n",
        "\n",
        "  @property\n",
        "  def y(self):\n",
        "    return self.__y\n",
        "\n",
        "  @y.setter\n",
        "  def y(self, hodnota):\n",
        "    self.__y = max(hodnota, 0)\n",
        "\n",
        "  @property\n",
        "  def nazev(self):\n",
        "    print(\"Čtu název hráče\")\n",
        "    return self._nazev\n",
        "\n",
        "  @nazev.setter\n",
        "  def nazev(self, hodnota):\n",
        "    print(\"Zapisuji název hráče\")\n",
        "    self._nazev = hodnota\n",
        "\n",
        "  def __str__(self):\n",
        "    return \"Hráč {} je na pozici x:{} y:{}\".format(self.nazev, self.x, self.y)\n",
        "\n",
        "H1 = Hrac(5, -15, \"Žofka\")\n",
        "print(H1)\n",
        "H1.x -= 25\n",
        "print(H1)\n",
        "\n",
        "print(\"======\")\n",
        "H1._x = -20 # jedno podtržítko je pouze nezávazné označení (upozornění, že bych zápis neměl dělat)\n",
        "print(H1)\n",
        "\n",
        "#  !!! POZOR !!! toto je jen pro zajímavost -> nenechte se zmást... \n",
        "print(\"========\")\n",
        "# Python nám toto dovolí, ale vytvoří DRUHÝ atribut __y (který nijak neolivňuje ten pravý - skrytý)\n",
        "# Filosofie Pythonu je \"umožnit všechno měnit\" -> proto se může některé chování zdát \"divné\"\n",
        "# Zde například měníme objekt H1 -> přidáváme do něj další atribut __y (jeden navíc oproti tomu vnitřnímu)\n",
        "# Tento \"nový\" __y jsme vytvořili mimo třídu a tak je viditelný i mimo třídu\n",
        "# Vnitřní funkce třídy ale budou stále pracovat s tím pravým (vnitřním) __y, který má vždy správnou hodnotu\n",
        "\n",
        "# H1.__y = -20 \n",
        "# print(H1)\n",
        "# print(\"Pravý __y:\", H1.y)\n",
        "# print(\"Falešný __y:\", H1.__y) "
      ],
      "execution_count": null,
      "outputs": []
    },
    {
      "cell_type": "markdown",
      "metadata": {
        "id": "KMQR0XLpwWlB"
      },
      "source": [
        "<h1>Cvičení</h1>"
      ]
    },
    {
      "cell_type": "markdown",
      "metadata": {
        "id": "mA1-q0a4e4qA"
      },
      "source": [
        "<h2>1</h2>\n",
        "<p>Vytvořte třídu <code>Zeton</code>, která bude mít <strong>skrytý</strong> atribut <code>hodnota</code>. Při vytváření <code>Zeton</code> se předá hodnota žetonu, kterou si bude žeton pamatovat - v atributu <code>hodnota</code>.<br> V tomto prvním cvičení není třeba s atributem <code>hodnota</code> nijak pracovat - ani zapisovat ani číst.</p>."
      ]
    },
    {
      "cell_type": "code",
      "metadata": {
        "id": "Z466EW8o635i"
      },
      "source": [
        "# TODO: Zde vytvořte třídu dle zadání\n",
        "\n",
        "\n",
        "### Dále kód neupravujte !!!\n",
        "try:\n",
        "  Z1 = Zeton(10)\n",
        "  expected_var = \"hodnota\"\n",
        "  all_vars = dir(Z1)\n",
        "  if \"_Zeton__\"+expected_var in all_vars:\n",
        "    print(\"V pořádku\")\n",
        "  elif expected_var in all_vars:\n",
        "    print(expected_var, \"není skrytý atribut\")\n",
        "  elif \"_\"+expected_var in all_vars:\n",
        "    print(\"_\"+expected_var, \"není skrytý atribut\")\n",
        "  else:\n",
        "    print(expected_var, \"nenalezeno\")\n",
        "except NameError as e:\n",
        "  print(\"Třída Zeton nenalezena\")\n",
        "except TypeError as e:\n",
        "  print(\"Třída Zeton má příjmat jeden argument při vytváření\")"
      ],
      "execution_count": null,
      "outputs": []
    },
    {
      "cell_type": "markdown",
      "metadata": {
        "id": "x6jEH5_-9UaV"
      },
      "source": [
        "<h2>2</h2>\n",
        "<p>Upravte Předchozí třídu tak, aby při zápisu do atributu hodnota (tj. např. <code>cerveny_zeton.hodnota = 10</code>) byla nejnižší možná hodnota žetonu <code>50</code>. Pokud zadáme nižší hodnotu, bude uloženo <code>50</code></p>"
      ]
    },
    {
      "cell_type": "code",
      "metadata": {
        "id": "O1Hv2HMx9__G"
      },
      "source": [
        "# TODO: Zde vytvořte třídu dle zadání\n",
        "\n",
        "\n",
        "### Dále kód neupravujte !!!\n",
        "Z1 = Zeton(10)\n",
        "if Z1.hodnota != 50:\n",
        "  print(\"Při vytváření Žetonu je potřeba hodnotu zkontrolovat - dostala se do něj hodnota\", Z1.hodnota)\n",
        "else:\n",
        "  Z1.hodnota = 20\n",
        "  if Z1.hodnota != 50:\n",
        "    print(\"Při úpravě Žetonu je potřeba hodnotu zkontrolovat - dostala se do něj hodnota\", Z1.hodnota)\n",
        "  else:\n",
        "    Z1.hodnota = 60\n",
        "    if Z1.hodnota != 60:\n",
        "      print(\"Zakázané hodnoty jsou pouze 49 a méně - očekávaná hodnota je 60, skutečná hodnota:\", Z1.hodnota)\n",
        "    else:\n",
        "      print(\"V pořádku\")\n",
        "\n"
      ],
      "execution_count": null,
      "outputs": []
    }
  ]
}