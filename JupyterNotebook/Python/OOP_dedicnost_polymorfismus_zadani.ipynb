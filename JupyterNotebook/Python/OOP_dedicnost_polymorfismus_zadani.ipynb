{
  "nbformat": 4,
  "nbformat_minor": 0,
  "metadata": {
    "colab": {
      "name": "OOP_dedicnost_polymorfismus_zadani.ipynb",
      "provenance": [],
      "collapsed_sections": [],
      "authorship_tag": "ABX9TyMldnMOewYOa5/x32mdnajG",
      "include_colab_link": true
    },
    "kernelspec": {
      "name": "python3",
      "display_name": "Python 3"
    },
    "language_info": {
      "name": "python"
    }
  },
  "cells": [
    {
      "cell_type": "markdown",
      "metadata": {
        "id": "view-in-github",
        "colab_type": "text"
      },
      "source": [
        "<a href=\"https://colab.research.google.com/github/JaroslavHolecek/Teaching/blob/master/JupyterNotebook/Python/OOP_dedicnost_polymorfismus_zadani.ipynb\" target=\"_parent\"><img src=\"https://colab.research.google.com/assets/colab-badge.svg\" alt=\"Open In Colab\"/></a>"
      ]
    },
    {
      "cell_type": "markdown",
      "metadata": {
        "id": "0Emcs3DswX_h"
      },
      "source": [
        "<h1>Dědičnost</h1>\n",
        "<p>Většinu objektů můžeme roztřídit do kategorií - např. Pes, Kočka, Člověk jsou zvířata, nebo také savci. To děláme obvykle proto, abychom mohli rychleji vysvětlit/zaznamenat/pochopit co daný objekt umí. Např. stačí říct, že Pes je Savec a tím jsme okamžitě předali o Psu <a href=\"https://cs.wikipedia.org/wiki/Savci\">spoustu informací</a>.</p>\n",
        "<p>V programu se nám také často objeví několik objektů, které se sice liší, ale některé vlastnosti mají stejné - bylo by velmi zbytečné a náročné při opravě chyb, zapisovat tyto stejné vlastnosti u každého objektu zvlášť.</p>\n",
        "<p>Pomocí <strong>dědičnosti</strong> můžeme společné vlastnosti objektů zapsat pouze jednou (např. do třídy Zvíře) a poté říci, že náš objekt (např. Pes) je <strong>potomek</strong> třídy Zvíře - a tedy <strong>dědí</strong> všechny jeho vlastnosti. Vztah druhým směrem se nazývá Rodičovská třída/předchůdce</p>\n",
        "<p>Potomek <strong>může přidávat</strong> další <strong>atributy</strong> a funkce, nebo <strong>měnit</strong> průběh odděděných <strong>funkcí</strong>.</p>"
      ]
    },
    {
      "cell_type": "code",
      "metadata": {
        "id": "RBiBoG5IGkgX"
      },
      "source": [
        "class Zvire:\n",
        "  # Každé zvíře má své jméno a hmotnost\n",
        "  def __init__(self, jmeno, hmotnost):\n",
        "    if hmotnost < 0:\n",
        "      raise ValueError(\"Hmotnost Zvířete nemůže být záporná\")\n",
        "    self.jmeno = jmeno\n",
        "    self.hmotnost = hmotnost    \n",
        "\n",
        "  @property\n",
        "  def jmeno(self):\n",
        "    return self.__jmeno\n",
        "  @jmeno.setter\n",
        "  def jmeno(self, jmeno):\n",
        "    self.__jmeno = jmeno.upper()\n",
        "\n",
        "  @property\n",
        "  def hmotnost(self):\n",
        "    return self.__hmotnost\n",
        "  @hmotnost.setter\n",
        "  def hmotnost(self, hmotnost):\n",
        "    self.__hmotnost = max(0, hmotnost)\n",
        "\n",
        "  # Každé zvíře umí zařvat\n",
        "  def zarvi(self):\n",
        "    print(\"Huááá hlasitostí\") \n",
        "\n",
        "  def __str__(self):\n",
        "    return \"Volej na mě {} a vážím {}*tíhové_zrychlení\".format(self.jmeno, self.hmotnost)\n",
        "\n",
        "z1 = Zvire(\"Anička\", 30)\n",
        "print(z1)\n",
        "z1.zarvi()"
      ],
      "execution_count": null,
      "outputs": []
    },
    {
      "cell_type": "code",
      "source": [
        "class Pes(Zvire):\n",
        "  # Při \"výrobě\" Psa nejprve vyrobíme zvíře a potom doplníme vlastnosti navíc\n",
        "  def __init__(self, jmeno, hmotnost, hlasitost):\n",
        "    Zvire.__init__(self, jmeno, hmotnost)\n",
        "    self.hlasitost = hlasitost\n",
        "\n",
        "  # Pes řve jinka než obyčejné zvíře\n",
        "  def zarvi(self):\n",
        "    print(f\"Haf haf hlasitostí {self.hlasitost}\") \n",
        "\n",
        "  # Zobrazení Psa je kombinace Zvířete a speciálních vlastností \n",
        "  def __str__(self):\n",
        "    return \"Jsem pes hlasitý {} {}\".format(self.hlasitost, Zvire.__str__(self))\n",
        "\n",
        "class Kocka(Zvire):\n",
        "  def __init__(self, jmeno, hmotnost, roztomilost):\n",
        "    Zvire.__init__(self, jmeno, hmotnost)\n",
        "    self.roztomilost = roztomilost\n",
        "\n",
        "  def zarvi(self):\n",
        "    print(f\"Mňau mňau s roztomilostí {self.roztomilost}\") \n",
        "\n",
        "  def __str__(self):\n",
        "    return \"Jsem kočka na {} roztomilá {}\".format(self.roztomilost, Zvire.__str__(self))\n",
        "\n",
        "p1 = Pes(\"Bára\", 40, 90)\n",
        "k1 = Kocka(\"Cecilka\", 3, 100)\n",
        "\n",
        "print(p1)\n",
        "p1.zarvi()\n",
        "print(k1)\n",
        "k1.zarvi()"
      ],
      "metadata": {
        "id": "rFDaTroJ9oay"
      },
      "execution_count": null,
      "outputs": []
    },
    {
      "cell_type": "markdown",
      "source": [
        "<h2>Polymorfismus</h2>\n",
        "<p>Polymorfismus znamená <strong>mnohotvarost</strong>, tedy jeden objekt lze použít v několika různých \"rolích\"</p>\n",
        "<p>V předchozích příkladech můžeme za polymorfní označit metodu <code>zarvi()</code>. Tato metoda i když \"vypadá\" stále stejně, \"se chová\" pokaždé jinak podle toho, jestli ji zavoláme u objektu Pes, Kocka nebo Zvire.</p>\n",
        "<p>Druhý příklad je použití samotného objektu. Objekt Pes samozřejmě můžeme používat tam, kde se očekává Pes, stejně tak ho ale můžeme použít tam, kde se očekává libovolné Zvire - neboť Pes je Zvire</p> "
      ],
      "metadata": {
        "id": "auPFJD5pH5zW"
      }
    },
    {
      "cell_type": "code",
      "source": [
        "# veterinarni osetreni můžeme provést na každém zvířeti\n",
        "def veterinarni_osetreni(zvire:Zvire):\n",
        "  print(\"Osetruji {} ...\".format(zvire))\n",
        "  zvire.zarvi() # pri osetreni\n",
        "  print(\"Hotovo.\")"
      ],
      "metadata": {
        "id": "x42dHOuVJBYI"
      },
      "execution_count": 6,
      "outputs": []
    },
    {
      "cell_type": "markdown",
      "metadata": {
        "id": "CvOwZNtFyURp"
      },
      "source": [
        "<p>Kontrolní otázka:</p>\n",
        "<p>Co vypíše náledující volání <code>veterinarni_osetreni()</code></p>\n"
      ]
    },
    {
      "cell_type": "code",
      "metadata": {
        "id": "tF7A9k-rJ74-"
      },
      "source": [
        "veterinarni_osetreni(z1)\n",
        "veterinarni_osetreni(p1)\n",
        "veterinarni_osetreni(k1)"
      ],
      "execution_count": null,
      "outputs": []
    },
    {
      "cell_type": "markdown",
      "metadata": {
        "id": "KMQR0XLpwWlB"
      },
      "source": [
        "<h1>Cvičení</h1>"
      ]
    },
    {
      "cell_type": "markdown",
      "metadata": {
        "id": "mA1-q0a4e4qA"
      },
      "source": [
        "<h2>1</h2>\n",
        "<p>Ne vždy je zcela jasné, který objekt je rodič a který potomek.</p>.\n",
        "<p>Vyzkoušíme si to na ukázce objektů <code>Ctverec</code> a <code>Obdelnik</code>. Dědičnost využíváme hlavně proto, abychom ušetřili psaní kódů (a také správně zachytili vztah mezi objekty).</p>\n",
        "<h3>1.1</h3>\n",
        "<p>Má dědit <code>Ctverec</code> od <code>Obdelnik</code>, nebo naopak a proč?</p>\n",
        "<h3>1.2</h3>\n",
        "<p>U <code>Ctverec</code> a <code>Obdelnik</code> chceme spočítat obvod a obsah (zavoláme na objektu funkci <code>obvod()</code> či <code>obsah()</code> a ta vrátí hodnotu pro daný objekt). Zapište tento program tak, že třída <code>Obdelnik</code> dědí od třídy <code>Ctverec</code>.</p>"
      ]
    },
    {
      "cell_type": "code",
      "source": [
        "# Kontrola dle učitele -> spočítat/zkontrolovat správně obvod a obsah jistě zvládnete a automaticky zkontrolovat, zda jste napsali třídy a metody ve správném vztahu není jen podle výsledku snadné...\n",
        "# TODO: Zde vytvořte třídy a metody dle zadání\n",
        "\n"
      ],
      "metadata": {
        "id": "GyAMymTqYlpA"
      },
      "execution_count": null,
      "outputs": []
    },
    {
      "cell_type": "markdown",
      "source": [
        "<h3>1.3</h3>\n",
        "<p>Zapište program z 1.2 tak, že třída <code>Ctverec</code> dědí od třídy <code>Obdelnik</code>.</p>"
      ],
      "metadata": {
        "id": "HCm_VJy8Ym0I"
      }
    },
    {
      "cell_type": "code",
      "metadata": {
        "id": "Z466EW8o635i"
      },
      "source": [
        "# Kontrola dle učitele -> spočítat/zkontrolovat správně obvod a obsah jistě zvládnete a automaticky zkontrolovat, zda jste napsali třídy a metody ve správném vztahu není jen podle výsledku snadné...\n",
        "# TODO: Zde vytvořte třídy a metody dle zadání\n",
        "\n"
      ],
      "execution_count": null,
      "outputs": []
    },
    {
      "cell_type": "markdown",
      "source": [
        "<h2>2</h2>\n",
        "<p>Mějme třídu <code>Auto</code> a <code>Volant</code>.</p>\n",
        "<h3>2.1</h3>\n",
        "<p>Jaký je vztah mezi těmito objekty? Dědí <code>Volant</code> od <code>Auto</code>, nebo naopak?</p>"
      ],
      "metadata": {
        "id": "GixrvIbvUh2A"
      }
    }
  ]
}