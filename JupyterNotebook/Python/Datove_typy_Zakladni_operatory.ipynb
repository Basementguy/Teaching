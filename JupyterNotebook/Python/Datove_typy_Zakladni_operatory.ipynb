{
  "nbformat": 4,
  "nbformat_minor": 0,
  "metadata": {
    "orig_nbformat": 4,
    "language_info": {
      "name": "python",
      "version": "3.9.7",
      "mimetype": "text/x-python",
      "codemirror_mode": {
        "name": "ipython",
        "version": 3
      },
      "pygments_lexer": "ipython3",
      "nbconvert_exporter": "python",
      "file_extension": ".py"
    },
    "kernelspec": {
      "name": "python3",
      "display_name": "Python 3.9.7 64-bit (windows store)"
    },
    "interpreter": {
      "hash": "f50fc77e20a9bbc9d5ef6054f2f68d7d6c4ea5f01cdcf25c8f6a2136f5976a60"
    },
    "colab": {
      "name": "Datove_typy_Zakladni_operatory.ipynb",
      "provenance": [],
      "include_colab_link": true
    }
  },
  "cells": [
    {
      "cell_type": "markdown",
      "metadata": {
        "id": "view-in-github",
        "colab_type": "text"
      },
      "source": [
        "<a href=\"https://colab.research.google.com/github/JaroslavHolecek/Teaching/blob/master/JupyterNotebook/Python/Datove_typy_Zakladni_operatory.ipynb\" target=\"_parent\"><img src=\"https://colab.research.google.com/assets/colab-badge.svg\" alt=\"Open In Colab\"/></a>"
      ]
    },
    {
      "cell_type": "markdown",
      "metadata": {
        "id": "WWMjpRv_YsRw"
      },
      "source": [
        "<h1>Základní Datové typy a Operátory</h1>\n",
        "<p>Každá proměnná má svůj datový typ, a to podle toho, jakou do ní uložíme hodnotu.<br>Python má takzvané dynamické datové typování - tedy datový typ proměnné se může v průběhu programu měnit - záleží, jakou hodnotu jsme do proměnné uložili naposledy.</p>\n",
        "<table>\n",
        "<tr> <th>Význam</th> <th>Anglicky</th> <th>Označení v Pythonu</th> <th>Možné hodnoty</th> </tr>\n",
        "<tr> <td>Celé číslo</td> <td>integer</td> <td>int</td> <td> 0 , 178 , -9 </td> </tr>\n",
        "<tr><td>Desetinné číslo</td><td>float</td><td>float</td> <td> 0.0 , 3.14 , -2.71  </td> </tr>\n",
        "<tr><td>Text (řetězec znaků)</td><td>string</td><td>str</td> <td> \"A\" , \"Ahoj\" , \"Jarda\" </td> </tr>\n",
        "<tr><td>Pravda/Nepravda</td><td>boolean</td><td>bool</td> <td>True , False </td> </tr>\n",
        "</table>"
      ]
    },
    {
      "cell_type": "markdown",
      "metadata": {
        "id": "n9wpSCEWYsSL"
      },
      "source": [
        "<h2>Funkce <code>type()</code></h2>\n",
        "<p>Funkce <code>type()</code> nám vrátí datový typ proměnné kterou dáme do jejího argumentu.<br>\n",
        "Pro vypsání výsledku funkce do konzole, použijeme funkci <code>print()</code></p>"
      ]
    },
    {
      "cell_type": "code",
      "metadata": {
        "id": "4ehVPHQYYsSQ"
      },
      "source": [
        "number = 34\n",
        "name = \"Honza\"\n",
        "boolean_value = False\n",
        "another_number = 56.981\n",
        "\n",
        "print(number, type(number))\n",
        "print(name, type(name))\n",
        "print(boolean_value, type(boolean_value))\n",
        "print(another_number, type(another_number))"
      ],
      "execution_count": null,
      "outputs": []
    },
    {
      "cell_type": "markdown",
      "metadata": {
        "id": "4GR2KmzZYsSb"
      },
      "source": [
        "Co znamená slovo `class` zjistíme později v materiálu k objektovému programování."
      ]
    },
    {
      "cell_type": "markdown",
      "metadata": {
        "id": "lBJgy1pPYsSb"
      },
      "source": [
        "<h2>Přetypování</h2>\n",
        "<p>Pomocí funkcionality přetypování lze datový typ proměnné přetypovat na jiný datový typ.</p>"
      ]
    },
    {
      "cell_type": "code",
      "metadata": {
        "id": "GVA9rniYYsSd"
      },
      "source": [
        "promenna = 64 # int\n",
        "promenna2 = float(promenna)\n",
        "print(promenna, type(promenna), promenna2, type(promenna2))\n",
        "\n",
        "cislo = 12\n",
        "retezec = str(cislo)\n",
        "zpet_cislo = int(retezec)\n",
        "print(cislo, type(cislo), retezec, type(retezec), zpet_cislo, type(zpet_cislo))"
      ],
      "execution_count": null,
      "outputs": []
    },
    {
      "cell_type": "markdown",
      "metadata": {
        "id": "3nWte064YsSf"
      },
      "source": [
        "Přetypování často používáme při načítání vstupu od uživatele. Funkce <code>input()</code> vrací vždy string a pokud chceme s hodnotou pracovat jako s číslem, musíme ji přetypovat."
      ]
    },
    {
      "cell_type": "code",
      "metadata": {
        "id": "-TBxA1l1YsSg"
      },
      "source": [
        "my_integer = int(input(\"Zadejte cislo:\"))\n",
        "print(\"Zadal jsi:\", my_integer, type(my_integer))"
      ],
      "execution_count": null,
      "outputs": []
    },
    {
      "cell_type": "markdown",
      "metadata": {
        "id": "6SvYjDmJYsSj"
      },
      "source": [
        "<h2>Operátory se základními datovými typy</h2>\n",
        "<p>Jak název napovídá, operátor je znak, který provede nějakou operaci.<br>Při použití operátorů je důležité s jakým <strong>datovým typem</strong> jej používáme - výsledek stejného operátoru na různém datovém typu se obykle liší a někdy ani nelze operátor použít.</p>"
      ]
    },
    {
      "cell_type": "markdown",
      "metadata": {
        "id": "msdWwYqK0M2X"
      },
      "source": [
        "<h3>=</h3>\n",
        "<p>Operátor <code>=</code> znamená \"ulož\".<br>Vezme tedy <strong>hodnotu vpravo</strong> a uloží ji do <strong>proměnné vlevo</strong>.<br>Pokud bude vpravo proměnná, použije se hodnota této proměnné, ne proměnná samotná.</p>\n",
        "<p>Srovnejte s použitím znaménka = v matematice. V čem se liší?</p>"
      ]
    },
    {
      "cell_type": "markdown",
      "metadata": {
        "id": "BkSWxWaLYsSr"
      },
      "source": [
        "<h3>+ -</h3>\n",
        "<p>Operátory <code>+</code> a <code>-</code> provádí s čísly očekávané sčítání a odčítání.<br>Co však znamená sečíst/odečíst dva řetězce? Vyzkoušejte v kódu.</p>"
      ]
    },
    {
      "cell_type": "code",
      "metadata": {
        "id": "m8tU7Ujw1FK-"
      },
      "source": [
        "a = 15\n",
        "b = 37\n",
        "scitani = a + b\n",
        "odcitani = a - b\n",
        "print(\"Cisla:\", a, \"+\", b, \"=\", scitani, \"|\", a, \"-\", b, \"=\", odcitani)\n",
        "\n",
        "napis1 = \"Ahoj\"\n",
        "napis2 = \"Jarda\"\n",
        "scitani = napis1 + napis2\n",
        "print(\"Nápisy:\",napis1,\"+\",napis2,\"=\",scitani)\n",
        "\n",
        "odcitani = napis1 - napis2"
      ],
      "execution_count": null,
      "outputs": []
    },
    {
      "cell_type": "markdown",
      "metadata": {
        "id": "9uOTxVdU0LMP"
      },
      "source": [
        "<h3>*</h3>\n",
        "<p>Operátor <code>*</code> provádí s čísly násobení.<br>Podobně jako v předchozím případě vynásobit dva řetězce nelze. Co nám však Python umožňuje, je vynásobit číslo a řetězec.</p>"
      ]
    },
    {
      "cell_type": "code",
      "metadata": {
        "id": "c4z5A0yk3_aJ"
      },
      "source": [
        "a = 15\n",
        "b = 37\n",
        "nasobeni = a * b\n",
        "print(\"Cisla:\", a, \"+\", b, \"=\", nasobeni)\n",
        "\n",
        "napis = \"Ahoj\"\n",
        "nasobeni = a * napis\n",
        "print(\"Číslo a nápis:\",a,\"*\",napis,\"=\",nasobeni)"
      ],
      "execution_count": null,
      "outputs": []
    },
    {
      "cell_type": "markdown",
      "metadata": {
        "id": "x14MRf7z4H8j"
      },
      "source": [
        "<h3>/</h3>\n",
        "<p>Operátor <code>/</code> provádí s čísly dělení.<br>Jeho výsledkem je vždy <strong>float</strong>, bez ohledu na typ vstupních čísel.</p>"
      ]
    },
    {
      "cell_type": "code",
      "metadata": {
        "id": "78wuU7oE3E7H"
      },
      "source": [
        "a = 15\n",
        "b = 3\n",
        "deleni = a / b\n",
        "print(\"Integer:\", a, \"/\", b, \"=\", deleni, type(deleni))\n",
        "\n",
        "a = 15.5\n",
        "b = 3.1\n",
        "deleni = a / b\n",
        "print(\"Float:\", a, \"/\", b, \"=\", deleni, type(deleni))"
      ],
      "execution_count": null,
      "outputs": []
    },
    {
      "cell_type": "markdown",
      "metadata": {
        "id": "1udUdLp0436n"
      },
      "source": [
        "<h3>// %</h3>\n",
        "<p>Operátory <code>//</code> a <code>%</code> znáte z 2. třídy základní školy.<br>Předtím, než jste se dozvěděli o desetinných čísel jste dělili celá čísla </p>"
      ]
    },
    {
      "cell_type": "code",
      "metadata": {
        "id": "vGg5Gww9YsSu"
      },
      "source": [
        "scitani = 15 + 32 # 47\n",
        "odcitani = 65 - 7 # 58\n",
        "nasobeni = 6 * 2 # 18\n",
        "deleni = 420 / 6 # 7\n",
        "mocnina = 5 ** 2 # 25\n",
        "deleni2 = 10 // 3 # 3\n",
        "modulo = 30 % 7 # 2"
      ],
      "execution_count": null,
      "outputs": []
    },
    {
      "cell_type": "markdown",
      "metadata": {
        "id": "fjPDm-qh5Ia7"
      },
      "source": [
        ""
      ]
    },
    {
      "cell_type": "markdown",
      "metadata": {
        "id": "nnSj7OROYsSw"
      },
      "source": [
        "Operátory mohou pracovat i proměnnými."
      ]
    },
    {
      "cell_type": "code",
      "metadata": {
        "id": "WFE1bBWPYsSx"
      },
      "source": [
        "vysledek1 = scitani * odcitani\n",
        "vysledek2 = modulo + nasobeni"
      ],
      "execution_count": null,
      "outputs": []
    },
    {
      "cell_type": "markdown",
      "metadata": {
        "id": "2_WLFXnbYsSy"
      },
      "source": [
        "Dále existuje operátor `==` pro kontorolu rovnosti dvou hodnot. Výsledkem je buď True, nebo False."
      ]
    },
    {
      "cell_type": "code",
      "metadata": {
        "id": "8Vpj4zFqYsS0",
        "outputId": "e0bdf4b4-9a80-4386-9867-9ff1ce25bdff"
      },
      "source": [
        "print(2 == 5)\n",
        "print(True == False)\n",
        "print(\"ahoj\" == \"ahoj\")\n",
        "print(\"jedna\" == \"dva\")"
      ],
      "execution_count": null,
      "outputs": [
        {
          "output_type": "stream",
          "name": "stdout",
          "text": [
            "False\n",
            "False\n",
            "True\n",
            "False\n"
          ]
        }
      ]
    },
    {
      "cell_type": "markdown",
      "metadata": {
        "id": "-SUDS1D_YsS3"
      },
      "source": [
        "Operátory lze kombinovat tak, že nám usnadní psaní.\n",
        "Např. kdybychom chtěli přičíst hodnotu do proměnné, zapsali bychom to následovně:"
      ]
    },
    {
      "cell_type": "code",
      "metadata": {
        "id": "R5VNXdudYsS4"
      },
      "source": [
        "var = 0\n",
        "var = var + 2"
      ],
      "execution_count": null,
      "outputs": []
    },
    {
      "cell_type": "markdown",
      "metadata": {
        "id": "1DCf1RwMYsS6"
      },
      "source": [
        "Tento kus kódu přičte hodnotu 2 k proměnné."
      ]
    },
    {
      "cell_type": "markdown",
      "metadata": {
        "id": "OPGNr-aiYsS7"
      },
      "source": [
        "Zápis jde však zjednodušit:"
      ]
    },
    {
      "cell_type": "code",
      "metadata": {
        "id": "sIcR4AiYYsS8"
      },
      "source": [
        "var += 2 # přičte k proměnné var 2"
      ],
      "execution_count": null,
      "outputs": []
    },
    {
      "cell_type": "markdown",
      "metadata": {
        "id": "ysGrBjCjYsS-"
      },
      "source": [
        "Tento zápis jde použít pro všechny matematické operace:"
      ]
    },
    {
      "cell_type": "code",
      "metadata": {
        "id": "DGxQv5CCYsTA"
      },
      "source": [
        "var -= 2 # odečte od proměnné var 2\n",
        "var *= 2 # vynásobí proměnnou dvěma\n",
        "var /= 2 # odečte od proměnné 2\n",
        "var %= 2 # vydělí proměnnou dvěma a uloží do ní zbytek"
      ],
      "execution_count": null,
      "outputs": []
    },
    {
      "cell_type": "markdown",
      "metadata": {
        "id": "zg4HlDrWYsTB"
      },
      "source": [
        "# Cvičení"
      ]
    },
    {
      "cell_type": "markdown",
      "metadata": {
        "id": "ejaYfNefYsTC"
      },
      "source": [
        "# 1"
      ]
    },
    {
      "cell_type": "markdown",
      "metadata": {
        "id": "zNGdt3ruYsTC"
      },
      "source": [
        "Napiš program, který ze vstupu přijme dvě desetinná čísla. Jejich součet umocní na třetí, vydělí číslem pí(3.14).\n",
        "Na nový řádek vypíše výsledek mezera datový typ výsledku."
      ]
    },
    {
      "cell_type": "markdown",
      "metadata": {
        "id": "B3qOodyyYsTD"
      },
      "source": [
        "Příklady výsledků pro Vaší kontrolu:\n",
        "- 3568.657 <class 'float'>\n",
        "- 547.12 <class 'float'>\n",
        "- 1206.1548 <class 'float'>"
      ]
    },
    {
      "cell_type": "markdown",
      "metadata": {
        "id": "aFDT7uWSYsTE"
      },
      "source": [
        "# 2"
      ]
    },
    {
      "cell_type": "markdown",
      "metadata": {
        "id": "Yvgv3GW-YsTF"
      },
      "source": [
        "Načtěte od uživatele celé číslo(užijte přetypování) a vynásobte ho dvěma. Načtěte druhé celé číslo, celočíselně ho vydělte,\n",
        "a vypište na obrazovku výsledek rovnosti těchto dvou čísel."
      ]
    },
    {
      "cell_type": "markdown",
      "metadata": {
        "id": "LikjVuyUYsTJ"
      },
      "source": [
        "Příklady výsledků pro Vaší kontrolu:\n",
        "- True\n",
        "- False\n",
        "- False"
      ]
    },
    {
      "cell_type": "markdown",
      "metadata": {
        "id": "gvFmJ08vYsTK"
      },
      "source": [
        "# 3"
      ]
    },
    {
      "cell_type": "markdown",
      "metadata": {
        "id": "7pxTcoFRYsTM"
      },
      "source": [
        "Načtěte ze vstupu libvolné číslo, umocněte modulo zadaného čísla na druhou, vydělte ho 1/4,\n",
        "a vypište jeho pátou mocninu.\n",
        "Na další řádek vypiště datový typ výsledného čísla."
      ]
    },
    {
      "cell_type": "markdown",
      "metadata": {
        "id": "GzxC4GshYsTN"
      },
      "source": [
        "Příklady výsledků pro Vaší kontrolu:\n",
        "- 235\n",
        "  <class 'int'>\n",
        "- 8971\n",
        "  <class 'int'>\n",
        "- 53.61\n",
        "  <class 'float'>"
      ]
    }
  ]
}