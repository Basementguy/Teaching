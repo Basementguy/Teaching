{
  "nbformat": 4,
  "nbformat_minor": 0,
  "metadata": {
    "colab": {
      "name": "OOP_trida_objekt_atribut_metoda_zadani.ipynb",
      "provenance": [],
      "collapsed_sections": [],
      "authorship_tag": "ABX9TyOUwWQHJayhjoRGmnk+frs0",
      "include_colab_link": true
    },
    "kernelspec": {
      "name": "python3",
      "display_name": "Python 3"
    },
    "language_info": {
      "name": "python"
    }
  },
  "cells": [
    {
      "cell_type": "markdown",
      "metadata": {
        "id": "view-in-github",
        "colab_type": "text"
      },
      "source": [
        "<a href=\"https://colab.research.google.com/github/JaroslavHolecek/Teaching/blob/master/JupyterNotebook/Python/OOP_trida_objekt_atribut_metoda_zadani.ipynb\" target=\"_parent\"><img src=\"https://colab.research.google.com/assets/colab-badge.svg\" alt=\"Open In Colab\"/></a>"
      ]
    },
    {
      "cell_type": "markdown",
      "metadata": {
        "id": "0Emcs3DswX_h"
      },
      "source": [
        "<h1>Objektově orientované programování</h1>\n",
        "<p>Objektově orientované programování je přístup k řešení problému pomocí takzvaných objektů.</p>\n"
      ]
    },
    {
      "cell_type": "markdown",
      "metadata": {
        "id": "aEsjiasnUfcH"
      },
      "source": [
        "<h2>Syntaxe a sémantika</h2>\n",
        "<p><pre>class nazev_tridy:\n",
        "  def nazev_metody(self, arg1, arg2):\n",
        "    prikaz1\n",
        "    prikaz2\n",
        "    prikaz3\n",
        "\n",
        "  def nazev_dalsi_metody(self):\n",
        "    prikaz4\n",
        "\n",
        "O1 = nazev_tridy()\n",
        "</pre></p>\n",
        "<p>Třídu vytvoříme pomocí klíčového slova <code>class</code>. Tím jsme ještě <strong>NEvytvořili</strong> žádný objekt.<br>Uvnitř třídy pak píšeme jednotlivé metody (dříve jsme jim říkali funkce), které potom můžeme u objektů této třídy využít.<br>Objekt vytvoříme zavoláním jména třídy, jako bychom volali funkci (tedy s kulatými zavorkami)</p>"
      ]
    },
    {
      "cell_type": "markdown",
      "metadata": {
        "id": "AZpqzXywbZr6"
      },
      "source": [
        "<h2>Objekt, atributy</h2>\n",
        "<p>Objekt je samostatná \"jednotka\" -> tedy pokud máme takových objektů více (např. více hráčů ve hře), je každý z nich nezávislý na ostatních (každý je na jiném místě, má jiné skóre, jiné HP, ...). Těmto vlastnostem (pozice, hp, skóre) říkame <strong>atributy</strong></p>\n",
        "<h2>class - Třída</h2>\n",
        "<p>Třídu si můžeme představit jako „šablonu“ nebo „výrobní plán“ , podle kterého se vytváří jednotlivé objekty - říkame jim objekty dané třídy. V ku ji vytvoříme pomocí klíčového slova <code>class</code>.<br>Ve chvíli, kdy v programu zavoláme příkaz pro vytvoření objektu třídy, vytvoří se objekt, který má atributy (např. pozice, skóre, HP) a metody (pohyb, útok, ...), které jsme mu předepsali ve třídě.</p>"
      ]
    },
    {
      "cell_type": "markdown",
      "metadata": {
        "id": "imfFO6UQZbrZ"
      },
      "source": [
        "<h2>Metody</h2>\n",
        "<p>Metody (dříve jsme jim říkali \"funkce\" - je to jen jiné slovo s velmi podobným významem) jsou \"dovednosti\", které můžeme u objektu využívat.<br>Tyto \"dovednosti\" (metody) musíme objekty dané třídy nejprve \"naučit\" (napsat metodu, které provede požadované operace).<br>Výhodné je, že metodu zapíšeme do třídy (tedy pouze jednou pro všechny objekty dané třídy) a poté ji můžeme využít u všech objektů.</p>"
      ]
    },
    {
      "cell_type": "markdown",
      "metadata": {
        "id": "1pK4th7MPzIf"
      },
      "source": [
        "<h2>_ _init_ _()</h2>\n",
        "<p>Metoda <code>__init__()</code> je speciální metoda (speciální metody jsou označny dvěma podtržítky), která se zavolá ve chvíli, kdy vytváříme objekt.<br>\n",
        "Při vytváření objektu se vykonají všechny příkazy v této metodě a stejně jako každá jiná metoda umí pracovat i s argumenty. Argumenty využijeme pro nastavení počátečních hodnot objeku.</p>\n"
      ]
    },
    {
      "cell_type": "markdown",
      "metadata": {
        "id": "RwqmBPywUpQQ"
      },
      "source": [
        "<h2>self</h2>\n",
        "<p>V OOP kódu velmi často uvidíte slovo <code>self</code>.<br>Je to proměnná, ve které je uložená adresa objektu se kterým aktuálně pracujeme.<br>\n",
        "Pokud máme v programu tři objekty Auto - Škodovka, Trabant, Ferrari a zavoláme například <code>jed_doprava()</code> na objekt Trabant. Dává smysl, že se pohne pouze tento jeden objekt -> který ze tří objektů to je (na který objekt jsme metodu zavolali), musí mít Python někde uložené - a má to uložené právě v proměnné <code>self</code>.</p>"
      ]
    },
    {
      "cell_type": "code",
      "metadata": {
        "id": "_7nj3VScPvMv",
        "colab": {
          "base_uri": "https://localhost:8080/"
        },
        "outputId": "6a36dcb9-88ca-4f46-bb2d-8c79d500a742"
      },
      "source": [
        "# vytvořením třídy jsme NEvytvořili žádný objekt\n",
        "class Auto: # třída (\"šablona\") pro objekty Auto\n",
        "  def __init__ (self, x, y, nazev): # tato metoda se spustí při vytváření objektu\n",
        "    self.pozice = [x,y]\n",
        "    self.hp = 0\n",
        "    self.nazev = nazev\n",
        "\n",
        "  def __str__(self): # speciální metoda __str__() určuje, jak se objekt převede na string\n",
        "    return \"Auto {} s hp {} na pozici {}\".format(self.nazev, self.hp, self.pozice)\n",
        "\n",
        "auto1 = Auto(0,0,\"Škodovka\") # zde vytváříme objekt typu Auto - tedy spouštíme metodu __init__() ve třídě Auto\n",
        "auto2 = Auto(10,20,\"Trabant\")\n",
        "auto3 = Auto(300,400,\"Ferrari\")\n",
        "\n",
        "print(auto1, type(auto1)) # funkce print() vždy tiskne string - zavolá se tedy metoda __str__() a vrácený string se zobrazí\n",
        "print(auto2, type(auto2))\n",
        "print(auto3, type(auto3))"
      ],
      "execution_count": 12,
      "outputs": [
        {
          "output_type": "stream",
          "name": "stdout",
          "text": [
            "Auto Škodovka s hp 0 na pozici [0, 0] <class '__main__.Auto'>\n",
            "Auto Trabant s hp 0 na pozici [10, 20] <class '__main__.Auto'>\n",
            "Auto Ferrari s hp 0 na pozici [300, 400] <class '__main__.Auto'>\n"
          ]
        }
      ]
    },
    {
      "cell_type": "markdown",
      "metadata": {
        "id": "HlBxZcsij2wl"
      },
      "source": [
        "<h2>Přečtení hodnot</h2>\n",
        "<p>Objektu se samozřejmě často potřebujeme zeptat, jaké jsou hodnoty jeho atributů (jaký má název, kolik má hp, jaká je jeho pozice).<br>K hodnotám atributů se dostaneme pomocí <code>.</code> (tečky).</p>"
      ]
    },
    {
      "cell_type": "code",
      "metadata": {
        "colab": {
          "base_uri": "https://localhost:8080/"
        },
        "id": "l6-nWFHEkW81",
        "outputId": "c8faa22f-d61c-4dc6-dde3-c24a7b5a8a15"
      },
      "source": [
        "# pro spuštění této buňky musíte předtím alespoň jednou spustit buňku, ve které se vytváří objekty auto1, auto2 a auto3\n",
        "print(\"Auto1: x:\", auto1.pozice[0],\"y:\", auto1.pozice[0], \"hp:\", auto1.hp, \"nazev:\", auto1.nazev)\n",
        "print(\"Auto2: x:\", auto2.pozice[0],\"y:\", auto2.pozice[0], \"hp:\", auto2.hp, \"nazev:\", auto2.nazev)\n",
        "print(\"Auto3: x:\", auto3.pozice[0],\"y:\", auto3.pozice[0], \"hp:\", auto3.hp, \"nazev:\", auto3.nazev)"
      ],
      "execution_count": 2,
      "outputs": [
        {
          "output_type": "stream",
          "name": "stdout",
          "text": [
            "Auto1: x: 0 y: 0 hp: 0 nazev: Škodovka\n",
            "Auto2: x: 10 y: 10 hp: 0 nazev: Trabant\n",
            "Auto3: x: 300 y: 300 hp: 0 nazev: Ferrari\n"
          ]
        }
      ]
    },
    {
      "cell_type": "markdown",
      "metadata": {
        "id": "KMQR0XLpwWlB"
      },
      "source": [
        "<h1>Cvičení</h1>"
      ]
    },
    {
      "cell_type": "markdown",
      "metadata": {
        "id": "mA1-q0a4e4qA"
      },
      "source": [
        "<h2>1</h2>\n",
        "<p>Vytvořte třídu <code>Zeton</code>.<br>Při vytváření objektu této třídy zadáme tři hodnoty - <code>pozice_x</code>, <code>pozice_y</code> a <code>hodnota</code> (kolik bodů hráči přinese sebrání tohoto žetonku).<br>Tyto tři hodnoty si bude <code>Zeton</code> také pamatovat - v atributu <code>pozice</code> typu List bude <code>[pozice_x, pozice_y]</code> a v atributu <code>hodnota</code> typu int bude uložena jeho hodnota.</p>"
      ]
    },
    {
      "cell_type": "code",
      "metadata": {
        "id": "Z466EW8o635i"
      },
      "source": [
        "# TODO: zde vytvořte třídu\n",
        "\n",
        "\n",
        "# Dále už kód neměňte\n",
        "vsechny_zetony = []\n",
        "for i in range(0,5):\n",
        "  vsechny_zetony.append(Zeton(-i, 10*i, 7*i))\n",
        "\n",
        "print(\"Existuje {} Žetonů:\".format(len(vsechny_zetony)))\n",
        "for i, z in enumerate(vsechny_zetony):\n",
        "  print(\"{}. pozice: {} hodnota {}\".format(i+1, z.pozice, z.hodnota))"
      ],
      "execution_count": null,
      "outputs": []
    },
    {
      "cell_type": "markdown",
      "metadata": {
        "id": "ygLmHF2V7hVr"
      },
      "source": [
        "<p>Výsledky pro Vaší kontrolu - referenční řešení má 14 řádků</p>\n",
        "<table>\n",
        "<tr>\n",
        "<td>\n",
        "<pre>\n",
        "Existuje 5 Žetonů:\n",
        "1. pozice: [0, 0] hodnota 0\n",
        "2. pozice: [-1, 10] hodnota 7\n",
        "3. pozice: [-2, 20] hodnota 14\n",
        "4. pozice: [-3, 30] hodnota 21\n",
        "5. pozice: [-4, 40] hodnota 28\n",
        "</pre>\n",
        "</tr>\n",
        "</table>"
      ]
    },
    {
      "cell_type": "markdown",
      "metadata": {
        "id": "x6jEH5_-9UaV"
      },
      "source": [
        "<h2>2</h2>\n",
        "<p>Upravte svůj předchozí kód tak, aby pozice Žetonu nemohla být záporná (tedy byla 0 a více). Pokud se pokusíme vytvořit Žeton se zápornou pozicí, bude jeho pozice 0</p>"
      ]
    },
    {
      "cell_type": "code",
      "metadata": {
        "id": "O1Hv2HMx9__G"
      },
      "source": [
        "# TODO: zde vytvořte třídu\n",
        "\n",
        "\n",
        "# Dále už kód neměňte\n",
        "vsechny_zetony = []\n",
        "for i in range(0,5):\n",
        "  vsechny_zetony.append(Zeton(2-i, 10*i, 7*i))\n",
        "\n",
        "print(\"Existuje {} Žetonů:\".format(len(vsechny_zetony)))\n",
        "for i, z in enumerate(vsechny_zetony):\n",
        "  print(\"{}. pozice: {} hodnota {}\".format(i+1, z.pozice, z.hodnota))"
      ],
      "execution_count": null,
      "outputs": []
    },
    {
      "cell_type": "markdown",
      "metadata": {
        "id": "KceFc8NE_WJF"
      },
      "source": [
        "<p>Výsledky pro Vaší kontrolu - referenční řešení má 14 řádků</p>\n",
        "<table>\n",
        "<tr>\n",
        "<td>\n",
        "<pre>\n",
        "Existuje 5 Žetonů:\n",
        "1. pozice: [2, 0] hodnota 0\n",
        "2. pozice: [1, 10] hodnota 7\n",
        "3. pozice: [0, 20] hodnota 14\n",
        "4. pozice: [0, 30] hodnota 21\n",
        "5. pozice: [0, 40] hodnota 28\n",
        "</pre>\n",
        "</td>\n",
        "</tr>\n",
        "</table>"
      ]
    },
    {
      "cell_type": "markdown",
      "metadata": {
        "id": "3S10Ec-o_lXD"
      },
      "source": [
        "<h2>3</h2>\n",
        "<p>Do třídy <code>Auto</code> přidejte metodu <code>jed_vlevo(self)</code>.<br>\n",
        "Pokud zavoláme tuto metodu na objekt, zmenší se jeho pozice na x-ové ose o 5.</p>\n"
      ]
    },
    {
      "cell_type": "code",
      "metadata": {
        "id": "Ch2oqRoYABAE"
      },
      "source": [
        "class Auto: # třída (\"šablona\") pro objekty Auto\n",
        "  def __init__ (self, x, y, nazev): # tato metoda se spustí při vytváření objektu\n",
        "    self.pozice = [x,y]\n",
        "    self.hp = 0\n",
        "    self.nazev = nazev\n",
        "\n",
        "  def __str__(self): # speciální metoda __str__() určuje, jak se objekt převede na string\n",
        "    return \"Auto {} s hp {} na pozici {}\".format(self.nazev, self.hp, self.pozice)\n",
        "\n",
        "  # TODO: zde vytvořte metodu\n",
        "\n",
        "\n",
        "# Dále už kód neměňte\n",
        "auto3 = Auto(300,400,\"Ferrari\")\n",
        "for i in range(5):\n",
        "  print(auto3)\n",
        "  auto3.jed_vlevo()\n",
        "\n",
        "print(\"Auto na konci:\", auto3)"
      ],
      "execution_count": null,
      "outputs": []
    },
    {
      "cell_type": "markdown",
      "metadata": {
        "id": "5evlE8QKA0Do"
      },
      "source": [
        "<p>Výsledky pro Vaší kontrolu - referenční řešení má 20 řádků</p>\n",
        "<table>\n",
        "<tr>\n",
        "<td>\n",
        "<pre>\n",
        "Auto Ferrari s hp 0 na pozici [300, 400]\n",
        "Auto Ferrari s hp 0 na pozici [295, 400]\n",
        "Auto Ferrari s hp 0 na pozici [290, 400]\n",
        "Auto Ferrari s hp 0 na pozici [285, 400]\n",
        "Auto Ferrari s hp 0 na pozici [280, 400]\n",
        "Auto na konci: Auto Ferrari s hp 0 na pozici [275, 400]\n",
        "</pre>\n",
        "</td>\n",
        "\n",
        "</tr>\n",
        "</table>"
      ]
    },
    {
      "cell_type": "markdown",
      "metadata": {
        "id": "t-nFKEcb02OY"
      },
      "source": [
        "<h2>4</h2>\n",
        "<p>Upravte vaší metodu <code>jed_vlevo(self)</code> z předchozího cvičení tak, aby objekt nemohl \"vjet\" do záporných čísel - pokud by se to mělo stát, \"zasekne\" se na 0.</p>"
      ]
    },
    {
      "cell_type": "code",
      "metadata": {
        "id": "w6MO3V9803Ay"
      },
      "source": [
        "class Auto: # třída (\"šablona\") pro objekty Auto\n",
        "  def __init__ (self, x, y, nazev): # tato metoda se spustí při vytváření objektu\n",
        "    self.pozice = [x,y]\n",
        "    self.hp = 0\n",
        "    self.nazev = nazev\n",
        "\n",
        "  def __str__(self): # speciální metoda __str__() určuje, jak se objekt převede na string\n",
        "    return \"Auto {} s hp {} na pozici {}\".format(self.nazev, self.hp, self.pozice)\n",
        "\n",
        "  # TODO: zde vytvořte metodu\n",
        "\n",
        "\n",
        "# Dále už kód neměňte\n",
        "auto3 = Auto(10,400,\"Ferrari\")\n",
        "for i in range(5):\n",
        "  print(auto3)\n",
        "  auto3.jed_vlevo()\n",
        "\n",
        "print(\"Auto na konci:\", auto3)"
      ],
      "execution_count": null,
      "outputs": []
    },
    {
      "cell_type": "markdown",
      "metadata": {
        "id": "bJNlqQMA03mR"
      },
      "source": [
        "<p>Výsledky pro Vaší kontrolu - referenční řešení má 20 řádků</p>\n",
        "<table>\n",
        "<tr>\n",
        "<td>\n",
        "<pre>\n",
        "Auto Ferrari s hp 0 na pozici [10, 400]\n",
        "Auto Ferrari s hp 0 na pozici [5, 400]\n",
        "Auto Ferrari s hp 0 na pozici [0, 400]\n",
        "Auto Ferrari s hp 0 na pozici [0, 400]\n",
        "Auto Ferrari s hp 0 na pozici [0, 400]\n",
        "Auto na konci: Auto Ferrari s hp 0 na pozici [0, 400]\n",
        "</pre>\n",
        "</td>\n",
        "\n",
        "</tr>\n",
        "</table>"
      ]
    }
  ]
}