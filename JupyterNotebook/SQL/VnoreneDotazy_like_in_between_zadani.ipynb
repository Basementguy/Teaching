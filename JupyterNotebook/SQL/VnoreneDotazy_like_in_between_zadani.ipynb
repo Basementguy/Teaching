{
  "nbformat": 4,
  "nbformat_minor": 0,
  "metadata": {
    "interpreter": {
      "hash": "c796eb3e3b883799f02af01b49c30e973f5d9f6ae7feb75a7f340683beca589a"
    },
    "kernelspec": {
      "display_name": "Python 3.10.0 64-bit (system)",
      "language": "python",
      "name": "python3"
    },
    "language_info": {
      "codemirror_mode": {
        "name": "ipython",
        "version": 3
      },
      "file_extension": ".py",
      "mimetype": "text/x-python",
      "name": "python",
      "nbconvert_exporter": "python",
      "pygments_lexer": "ipython3",
      "version": "3.10.0"
    },
    "orig_nbformat": 4,
    "colab": {
      "name": "VnoreneDotazy_like_in_between_zadani.ipynb",
      "provenance": [],
      "collapsed_sections": [],
      "include_colab_link": true
    }
  },
  "cells": [
    {
      "cell_type": "markdown",
      "metadata": {
        "id": "view-in-github",
        "colab_type": "text"
      },
      "source": [
        "<a href=\"https://colab.research.google.com/github/JaroslavHolecek/Teaching/blob/master/JupyterNotebook/SQL/VnoreneDotazy_like_in_between_zadani.ipynb\" target=\"_parent\"><img src=\"https://colab.research.google.com/assets/colab-badge.svg\" alt=\"Open In Colab\"/></a>"
      ]
    },
    {
      "cell_type": "markdown",
      "metadata": {
        "id": "Cv2Utek0RY0W"
      },
      "source": [
        "# Vnořené dotazy, LIKE, IN, BETWEEN\n",
        "V tomto notebooku se podíváme na další možnosti jak upřesnit výpis z tabulky.\n",
        "\n",
        "Aby nám kód fungoval musíme si naistalovat knihovnu mysql.connector"
      ]
    },
    {
      "cell_type": "code",
      "metadata": {
        "id": "PFUb6-RIRY0_"
      },
      "source": [
        "!pip install mysql.connector"
      ],
      "execution_count": null,
      "outputs": []
    },
    {
      "cell_type": "code",
      "metadata": {
        "id": "AtS9BqHXRY1P"
      },
      "source": [
        "# Vytvoření databáze, se kterou budeme pracovat\n",
        "\n",
        "import mysql.connector\n",
        "\n",
        "mydb = mysql.connector.connect(\n",
        "    host = \"dbs.spskladno.cz\"\n",
        "    ,user = \"rekne_ucitel\"\n",
        "    ,password = \"rekne_ucitel\"\n",
        "    ,database = \"zavisi_na_useru\"\n",
        ")\n",
        "\n",
        "mycursor = mydb.cursor()\n",
        "\n",
        "try:\n",
        "    mycursor.execute(\"\"\"DROP TABLE Automobil;\"\"\")\n",
        "    mydb.commit()\n",
        "except mysql.connector.Error:\n",
        "    print(\"Tato tabulka neexistuje.\")\n",
        "\n",
        "# Vytvoříme tabulku Automobil\n",
        "mycursor.execute(\"\"\"CREATE TABLE Automobil(\n",
        "    id int,\n",
        "    spz text,\n",
        "    znacka text,\n",
        "    pocet_sedadel int,\n",
        "    max_rychlost int,\n",
        "    nosnost int,\n",
        "    nutna_kvalifikace text,\n",
        "    datum_vyroby date\n",
        ")\"\"\")\n",
        "\n",
        "mydb.commit()\n",
        "\n",
        "# Zapíšeme do ni\n",
        "mycursor.execute(\"\"\"INSERT INTO Automobil\n",
        "(id, spz, znacka, pocet_sedadel, max_rychlost, nosnost,  nutna_kvalifikace, datum_vyroby) VALUES\n",
        "(1, '1A1111', 'Skoda', 4, 150, 3, 'B',  '2000-09-09'),\n",
        "(2, '2B2222', 'Ford', 2, 220, 2, 'B',  '2020-01-01'),\n",
        "(3, '3B3333', 'Audi', 4, 220, 2, 'B',  '2018-01-01'),\n",
        "(4, '4B4444', 'Skoda', 4, 190, 4, 'B',  '2017-05-11');\n",
        "\"\"\")\n",
        "\n",
        "mydb.commit()\n",
        "\n",
        "mycursor.close()\n",
        "mydb.close()"
      ],
      "execution_count": 3,
      "outputs": []
    },
    {
      "cell_type": "markdown",
      "metadata": {
        "id": "MBfDOIkgRY1Z"
      },
      "source": [
        "## IN\n",
        "Používá se spolu s WHERE a umožňuje specifikovat více hodnot zvoleného atributu, podle kterého chceme z tabulky řádky vypsat. Operátor IN je v podstatě zkrácením OR.\n",
        "\n",
        "Použití IN může vypadat následovně:"
      ]
    },
    {
      "cell_type": "code",
      "metadata": {
        "id": "h558UxXbRY1b"
      },
      "source": [
        "import mysql.connector\n",
        "\n",
        "mydb = mysql.connector.connect(\n",
        "    host = \"dbs.spskladno.cz\"\n",
        "    ,user = \"rekne_ucitel\"\n",
        "    ,password = \"rekne_ucitel\"\n",
        "    ,database = \"zavisi_na_useru\"\n",
        ")\n",
        "mycursor = mydb.cursor()\n",
        "\n",
        "# Tento příkaz vypíše vše o autech značky Skoda a Audi\n",
        "mycursor.execute(\"\"\"SELECT * FROM Automobil WHERE znacka IN ('Skoda', 'Audi')\n",
        "\"\"\")\n",
        "\n",
        "myresult = mycursor.fetchall()\n",
        "\n",
        "for id, spz, znacka, pocet_sedadel, max_rychlost, nosnost,  nutna_kvalifikace, datum_vyroby in myresult:\n",
        "    print(f\"\"\"\n",
        "    Auto má id {id}, spz {spz}, značka {znacka}, má {pocet_sedadel} sedadla, \n",
        "    max rychlost {max_rychlost} km/h, nosnost {nosnost} tun,\n",
        "    je potřeba řidičský průkaz kategorie {nutna_kvalifikace}, bylo vyrobeno {datum_vyroby}\n",
        "    \"\"\")\n",
        "\n",
        "mycursor.close()\n",
        "mydb.close()"
      ],
      "execution_count": null,
      "outputs": []
    },
    {
      "cell_type": "markdown",
      "metadata": {
        "id": "tKXbKqjXRY1f"
      },
      "source": [
        "## LIKE\n",
        "LIKE se používá k filtrování textu v záznamu. Používá se spolu s WHERE.\n",
        "\n",
        "Pro filtraci se používají tzv. wildcards. Právě ty jsou zodpovědné za filtraci.\n",
        "Logiku filtrování řeší SŘDB.\n",
        "\n",
        "Dělí se na 2 druhy:\n",
        "* % - přidá 0+ znaků, které se vyplňí samy na základě filtrace\n",
        "* _ - přidá přesně jeden znak, který se vyplní sám na základě filtrace\n",
        "\n",
        "Použití LIKE může vypadat následovně:"
      ]
    },
    {
      "cell_type": "code",
      "metadata": {
        "id": "6D1nEiGqRY1h"
      },
      "source": [
        "import mysql.connector\n",
        "\n",
        "mydb = mysql.connector.connect(\n",
        "    host = \"dbs.spskladno.cz\"\n",
        "    ,user = \"rekne_ucitel\"\n",
        "    ,password = \"rekne_ucitel\"\n",
        "    ,database = \"zavisi_na_useru\"\n",
        ")\n",
        "mycursor = mydb.cursor()\n",
        "\n",
        "# Přidání záznamu \n",
        "mycursor.execute(\"\"\"INSERT INTO Automobil\n",
        "(id, spz, znacka, pocet_sedadel, max_rychlost, nosnost,  nutna_kvalifikace, datum_vyroby) VALUES\n",
        "(5, '5A5555', 'Ferrari', 2, 250, 3, 'B',  '2005-09-09');\n",
        "\"\"\")\n",
        "\n",
        "mydb.commit()\n",
        "\n",
        "# Tento příkaz vypíše znacky aut, která začínají na F\n",
        "mycursor.execute(\"\"\"SELECT znacka FROM Automobil WHERE znacka LIKE 'F%'\n",
        "\"\"\") \n",
        "\n",
        "myresult = mycursor.fetchall()\n",
        "\n",
        "for znacka in myresult:\n",
        "    print(f\"\"\"\n",
        "    Auto má značku {znacka}\n",
        "    \"\"\")\n",
        "\n",
        "print(\"=======\")\n",
        "\n",
        "# Tento příkaz vypíše znacky aut, která splňují podmínku znacka = F_r_\n",
        "mycursor.execute(\"\"\"SELECT znacka FROM Automobil WHERE znacka LIKE 'F_r_'\n",
        "\"\"\") \n",
        "\n",
        "myresult = mycursor.fetchall()\n",
        "\n",
        "for znacka in myresult:\n",
        "    print(f\"\"\"\n",
        "    Auto má značku {znacka}\n",
        "    \"\"\")\n",
        "\n",
        "mycursor.close()\n",
        "mydb.close()"
      ],
      "execution_count": null,
      "outputs": []
    },
    {
      "cell_type": "markdown",
      "metadata": {
        "id": "c9ONJ94TRY1i"
      },
      "source": [
        "## BETWEEN\n",
        "Operátor BETWEEN vybírá hodnoty z daného rozsahu. Hodnoty mohou být čísla, text, nebo datum.\n",
        "\n",
        "Výpis BETWEEN bude obsahovat první i poslední hodnotu z rozsahu.\n",
        "\n",
        "Použití BETWEEN může vypadat následovně:"
      ]
    },
    {
      "cell_type": "code",
      "metadata": {
        "id": "7TNcpEIiRY1q"
      },
      "source": [
        "import mysql.connector\n",
        "\n",
        "mydb = mysql.connector.connect(\n",
        "    host = \"dbs.spskladno.cz\"\n",
        "    ,user = \"rekne_ucitel\"\n",
        "    ,password = \"rekne_ucitel\"\n",
        "    ,database = \"zavisi_na_useru\"\n",
        ")\n",
        "mycursor = mydb.cursor()\n",
        "\n",
        "# Tento příkaz vypíše id a maximální rychlost aut s rychlostí v rozsahu 160 až 230\n",
        "mycursor.execute(\"\"\"SELECT id, max_rychlost FROM Automobil \n",
        "WHERE max_rychlost BETWEEN 160 AND 230;\n",
        "\"\"\") \n",
        "\n",
        "myresult = mycursor.fetchall()\n",
        "\n",
        "for id, max_rychlost in myresult:\n",
        "    print(f\"\"\"\n",
        "    Auto má id {id} a maximální rychlost {max_rychlost}\n",
        "    \"\"\")\n",
        "\n",
        "print(\"=========\")\n",
        "\n",
        "# Tento příkaz vypíše id a spz aut s spz v rozsahu 2B2222 až 4B4444\n",
        "mycursor.execute(\"\"\"SELECT id, spz FROM Automobil \n",
        "WHERE spz BETWEEN '2B2222' AND '4B44440';\n",
        "\"\"\") \n",
        "\n",
        "myresult = mycursor.fetchall()\n",
        "\n",
        "for id, spz in myresult:\n",
        "    print(f\"\"\"\n",
        "    Auto má id {id} a spz {spz}\n",
        "    \"\"\")\n",
        "\n",
        "mycursor.close()\n",
        "mydb.close()"
      ],
      "execution_count": null,
      "outputs": []
    },
    {
      "cell_type": "markdown",
      "metadata": {
        "id": "sDcq7WvORY1u"
      },
      "source": [
        "## Vnořené dotazy\n",
        "Vnořený dotaz není nic jiného, než příkaz SELECT vnořený do jiného příkazu SELECT. Vnořené dotazy využijeme tam, kde potřebujeme nejprve zjistit nějakou informaci a v závislosti na ní zjistit pak informace další. Typickým příkladem by mohl být následující dotaz.\n",
        "\n",
        "Vnořené dotazy vytvoříme tak, že si problém rozdělíme na několik jednoduchých a ty pak poskládáme. \n",
        "\n",
        "Pokud tedy budeme chtít vypsat auta, která mají rychlost vyšší, než je průměrná rychlost všech aut. Kód na tento příkaz může vypadat takto:"
      ]
    },
    {
      "cell_type": "code",
      "metadata": {
        "id": "alrsvr50RY1w"
      },
      "source": [
        "import mysql.connector\n",
        "\n",
        "mydb = mysql.connector.connect(\n",
        "    host = \"dbs.spskladno.cz\"\n",
        "    ,user = \"rekne_ucitel\"\n",
        "    ,password = \"rekne_ucitel\"\n",
        "    ,database = \"zavisi_na_useru\"\n",
        ")\n",
        "mycursor = mydb.cursor()\n",
        "\n",
        "# Nejdříve si daný problém rozdělíme.\n",
        "# 1. Chceme zjistit průměrnou rychlost\n",
        "# 2. A vypsat auta s vyšší rychlostí\n",
        "mycursor.execute(\"\"\"SELECT * FROM Automobil WHERE max_rychlost > \n",
        "(SELECT AVG(max_rychlost) FROM Automobil)\n",
        "\"\"\") # příkazy v závorkách se provedou jako první\n",
        "\n",
        "myresult = mycursor.fetchall()\n",
        "\n",
        "for id, spz, znacka, pocet_sedadel, max_rychlost, nosnost,  nutna_kvalifikace, datum_vyroby in myresult:\n",
        "    print(f\"\"\"\n",
        "    Auto má id {id}, spz {spz}, značka {znacka}, má {pocet_sedadel} sedadla, \n",
        "    max rychlost {max_rychlost} km/h, nosnost {nosnost} tun,\n",
        "    je potřeba řidičský průkaz kategorie {nutna_kvalifikace}, bylo vyrobeno {datum_vyroby}\n",
        "    \"\"\")\n",
        "\n",
        "print(\"========\")\n",
        "\n",
        "# Nebo budeme například k dané podmínce přidat, že chceme pouze auta určité značky\n",
        "# To by vypadalo takto\n",
        "mycursor.execute(\"\"\"SELECT * FROM Automobil WHERE max_rychlost > \n",
        "(SELECT AVG(max_rychlost) FROM Automobil) AND znacka = 'Audi'\n",
        "\"\"\")\n",
        "\n",
        "myresult = mycursor.fetchall()\n",
        "\n",
        "for id, spz, znacka, pocet_sedadel, max_rychlost, nosnost,  nutna_kvalifikace, datum_vyroby in myresult:\n",
        "    print(f\"\"\"\n",
        "    Auto má id {id}, spz {spz}, značka {znacka}, má {pocet_sedadel} sedadla, \n",
        "    max rychlost {max_rychlost} km/h, nosnost {nosnost} tun,\n",
        "    je potřeba řidičský průkaz kategorie {nutna_kvalifikace}, bylo vyrobeno {datum_vyroby}\n",
        "    \"\"\")\n",
        "\n",
        "mycursor.close()\n",
        "mydb.close()"
      ],
      "execution_count": null,
      "outputs": []
    },
    {
      "cell_type": "markdown",
      "metadata": {
        "id": "11Z_YiXdRY1y"
      },
      "source": [
        "# Cvičení\n",
        "Bude následovat pár cvičení na procvičení dnešního tématu.\n",
        "\n",
        "## Cvičení 1:\n",
        "Z tabulky Automobil z tohoto Notebooku vypište záznamy, které mají hodnotu atributu datum_vyroby = 2018-01-01, nebo 2005-09-09"
      ]
    },
    {
      "cell_type": "code",
      "metadata": {
        "id": "Xd_i4Lw4RY1z"
      },
      "source": [
        "import mysql.connector\n",
        "\n",
        "mydb = mysql.connector.connect(\n",
        "    host = \"dbs.spskladno.cz\"\n",
        "    ,user = \"rekne_ucitel\"\n",
        "    ,password = \"rekne_ucitel\"\n",
        "    ,database = \"zavisi_na_useru\"\n",
        ")\n",
        "mycursor = mydb.cursor()\n",
        "\n",
        "try:\n",
        "    # TODO: Zde přijde váš kód ->\n",
        "    pass\n",
        "    \n",
        "\n",
        "except mysql.connector.Error as chyba:\n",
        "    print(\"Příkaz byl zadán chybně:\\n\", chyba)\n",
        "\n",
        "mycursor.close()\n",
        "mydb.close()"
      ],
      "execution_count": null,
      "outputs": []
    },
    {
      "cell_type": "markdown",
      "metadata": {
        "id": "69aviYdGoAwg"
      },
      "source": [
        "Referenční řešení pro kontrolu:\n",
        "<pre>\n",
        "Auto má id 3, spz 3B3333, značka Audi, má 4 sedadla, \n",
        "max rychlost 220 km/h, nosnost 2 tun,\n",
        "je potřeba řidičský průkaz kategorie B, bylo vyrobeno 2018-01-01      \n",
        "\n",
        "Auto má id 5, spz 5A5555, značka Ferrari, má 2 sedadla, \n",
        "max rychlost 250 km/h, nosnost 3 tun,\n",
        "je potřeba řidičský průkaz kategorie B, bylo vyrobeno 2005-09-09\n",
        "</pre>"
      ]
    },
    {
      "cell_type": "markdown",
      "metadata": {
        "id": "ewMLreLyRY13"
      },
      "source": [
        "## Cvičení 2:\n",
        "Z tabulky Automobil vypište záznamy, které mají v atributu spz písmeno B."
      ]
    },
    {
      "cell_type": "code",
      "metadata": {
        "id": "jIs5DrsjRY16"
      },
      "source": [
        "import mysql.connector\n",
        "\n",
        "mydb = mysql.connector.connect(\n",
        "    host = \"dbs.spskladno.cz\"\n",
        "    ,user = \"rekne_ucitel\"\n",
        "    ,password = \"rekne_ucitel\"\n",
        "    ,database = \"zavisi_na_useru\"\n",
        ")\n",
        "mycursor = mydb.cursor()\n",
        "\n",
        "try:\n",
        "    # TODO: Zde přijde váš kód ->\n",
        "    pass\n",
        "\n",
        "except mysql.connector.Error as chyba:\n",
        "    print(\"Příkaz byl zadán chybně:\\n\", chyba)\n",
        "\n",
        "mycursor.close()\n",
        "mydb.close()"
      ],
      "execution_count": null,
      "outputs": []
    },
    {
      "cell_type": "markdown",
      "metadata": {
        "id": "aeU3dn7RoSsq"
      },
      "source": [
        "Referenční řešení pro kontrolu:\n",
        "<pre>\n",
        "Auto má id 2, spz 2B2222, značka Ford, má 2 sedadla, \n",
        "max rychlost 220 km/h, nosnost 2 tun,\n",
        "je potřeba řidičský průkaz kategorie B, bylo vyrobeno 2020-01-01\n",
        "\n",
        "\n",
        "Auto má id 3, spz 3B3333, značka Audi, má 4 sedadla, \n",
        "max rychlost 220 km/h, nosnost 2 tun,\n",
        "je potřeba řidičský průkaz kategorie B, bylo vyrobeno 2018-01-01\n",
        "\n",
        "\n",
        "Auto má id 4, spz 4B4444, značka Skoda, má 4 sedadla, \n",
        "max rychlost 190 km/h, nosnost 4 tun,\n",
        "je potřeba řidičský průkaz kategorie B, bylo vyrobeno 2017-05-11\n",
        "</pre>"
      ]
    },
    {
      "cell_type": "markdown",
      "metadata": {
        "id": "PBfEdF1mRY18"
      },
      "source": [
        "## Cvičení 3:\n",
        "Z tabulky Automobil vypište záznamy, které jsou (abecedně) mezi znacka = 'Audi' a znacka = 'Ford'"
      ]
    },
    {
      "cell_type": "code",
      "metadata": {
        "id": "O6mtcuH0RY1-"
      },
      "source": [
        "import mysql.connector\n",
        "\n",
        "mydb = mysql.connector.connect(\n",
        "    host = \"dbs.spskladno.cz\"\n",
        "    ,user = \"rekne_ucitel\"\n",
        "    ,password = \"rekne_ucitel\"\n",
        "    ,database = \"zavisi_na_useru\"\n",
        ")\n",
        "mycursor = mydb.cursor()\n",
        "\n",
        "try:\n",
        "    # TODO: Zde přijde váš kód ->\n",
        "    pass\n",
        "\n",
        "except mysql.connector.Error as chyba:\n",
        "    print(\"Příkaz byl zadán chybně:\\n\", chyba)\n",
        "\n",
        "mycursor.close()\n",
        "mydb.close()"
      ],
      "execution_count": null,
      "outputs": []
    },
    {
      "cell_type": "markdown",
      "metadata": {
        "id": "91qqcEROoact"
      },
      "source": [
        "Referenční řešení pro kontrolu:\n",
        "<pre>\n",
        "Auto má id 2, spz 2B2222, značka Ford, má 2 sedadla, \n",
        "max rychlost 220 km/h, nosnost 2 tun,\n",
        "je potřeba řidičský průkaz kategorie B, bylo vyrobeno 2020-01-01\n",
        "\n",
        "\n",
        "Auto má id 3, spz 3B3333, značka Audi, má 4 sedadla, \n",
        "max rychlost 220 km/h, nosnost 2 tun,\n",
        "je potřeba řidičský průkaz kategorie B, bylo vyrobeno 2018-01-01\n",
        "\n",
        "\n",
        "Auto má id 5, spz 5A5555, značka Ferrari, má 2 sedadla, \n",
        "max rychlost 250 km/h, nosnost 3 tun,\n",
        "je potřeba řidičský průkaz kategorie B, bylo vyrobeno 2005-09-09\n",
        "</pre>"
      ]
    },
    {
      "cell_type": "markdown",
      "metadata": {
        "id": "_40KEWrVRY2F"
      },
      "source": [
        "## Cvičení 4:\n",
        "Z tabulky Automobil vypište záznamy, které mají nosnost menší než je průměrná nosnost, nebo atribut znacka = 'Ferrari'"
      ]
    },
    {
      "cell_type": "code",
      "metadata": {
        "id": "kCYZ6SpCRY2H"
      },
      "source": [
        "import mysql.connector\n",
        "\n",
        "mydb = mysql.connector.connect(\n",
        "    host = \"dbs.spskladno.cz\"\n",
        "    ,user = \"rekne_ucitel\"\n",
        "    ,password = \"rekne_ucitel\"\n",
        "    ,database = \"zavisi_na_useru\"\n",
        ")\n",
        "mycursor = mydb.cursor()\n",
        "\n",
        "try:\n",
        "    # TODO: Zde přijde váš kód ->\n",
        "    pass\n",
        "\n",
        "\n",
        "except mysql.connector.Error as chyba:\n",
        "    print(\"Příkaz byl zadán chybně:\\n\", chyba)\n",
        "\n",
        "mycursor.close()\n",
        "mydb.close()"
      ],
      "execution_count": null,
      "outputs": []
    },
    {
      "cell_type": "markdown",
      "metadata": {
        "id": "x9jotKQloiQj"
      },
      "source": [
        "Referenční řešení pro kontrolu:\n",
        "<pre>\n",
        "Auto má id 2, spz 2B2222, značka Ford, má 2 sedadla, \n",
        "max rychlost 220 km/h, nosnost 2 tun,\n",
        "je potřeba řidičský průkaz kategorie B, bylo vyrobeno 2020-01-01\n",
        "\n",
        "\n",
        "Auto má id 3, spz 3B3333, značka Audi, má 4 sedadla, \n",
        "max rychlost 220 km/h, nosnost 2 tun,\n",
        "je potřeba řidičský průkaz kategorie B, bylo vyrobeno 2018-01-01\n",
        "\n",
        "\n",
        "Auto má id 5, spz 5A5555, značka Ferrari, má 2 sedadla, \n",
        "max rychlost 250 km/h, nosnost 3 tun,\n",
        "je potřeba řidičský průkaz kategorie B, bylo vyrobeno 2005-09-09\n",
        "</pre>"
      ]
    }
  ]
}