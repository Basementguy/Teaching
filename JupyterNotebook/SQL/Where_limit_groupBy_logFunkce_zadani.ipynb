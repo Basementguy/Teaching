{
  "cells": [
    {
      "cell_type": "markdown",
      "metadata": {
        "id": "view-in-github",
        "colab_type": "text"
      },
      "source": [
        "<a href=\"https://colab.research.google.com/github/JaroslavHolecek/Teaching/blob/master/JupyterNotebook/SQL/Where_limit_groupBy_logFunkce_zadani.ipynb\" target=\"_parent\"><img src=\"https://colab.research.google.com/assets/colab-badge.svg\" alt=\"Open In Colab\"/></a>"
      ]
    },
    {
      "cell_type": "markdown",
      "metadata": {
        "id": "VmlS7bYQOqW_"
      },
      "source": [
        "# WHERE, LIMIT, GROUP BY, logické funkce\n",
        "Všechny tyto funkce se používají k bližší specifikaci toho co chceme z databáze vypsat, používají se tedy v rámci dotazu SELECT.\n",
        "\n",
        "Zatímco za slovo SELECT zapisujeme které SLOUPEČKY chceme z tabulky získat, za klíčové slovo WHERE zapisujeme co musí splňovat ŘÁDKY které se mají ve výsledku zobrazit.\n",
        "\n",
        "Dále také za WHERE zapisujeme, zda mají být řádky seřazené, seskupené a pod.\n",
        "\n",
        "<code>SELECT sloupec1, sloupec2 FROM Nazev_tabulky WHERE omezení_řádků další_nastavení </code>\n"
      ]
    },
    {
      "cell_type": "code",
      "execution_count": null,
      "metadata": {
        "id": "OSsgmCg5OqXO"
      },
      "outputs": [],
      "source": [
        "! pip install mysql.connector"
      ]
    },
    {
      "cell_type": "markdown",
      "metadata": {
        "id": "MzJqgnyCOqXU"
      },
      "source": [
        "## LIMIT\n",
        "Omezuje počet vypsaných záznamů. Jinými slovy zobrazí prvních X záznamů.\n",
        "\n",
        "Použití může vypadat následovně."
      ]
    },
    {
      "cell_type": "code",
      "execution_count": null,
      "metadata": {
        "id": "X6qQn5HtOqXW"
      },
      "outputs": [],
      "source": [
        "import mysql.connector\n",
        "\n",
        "mydb = mysql.connector.connect(\n",
        "    host = \"dbs.spskladno.cz\"\n",
        "    ,user = \"rekne_ucitel\"\n",
        "    ,password = \"rekne_ucitel\"\n",
        "    ,database = \"zavisi_na_useru\"\n",
        ")\n",
        "\n",
        "mycursor = mydb.cursor()\n",
        "\n",
        "# Dříve, než můžeme z tabulky vypisovat musíme ji vytvořít a zapsat do ní.\n",
        "\n",
        "# Kontrola jestli tabulka neexistuje, pokud by existovala, smažeme ji.\n",
        "try:\n",
        "    mycursor.execute(\"\"\"DROP TABLE Automobil;\"\"\")\n",
        "    mydb.commit()\n",
        "except mysql.connector.Error:\n",
        "    print(\"Tato tabulka neexistuje.\")\n",
        "\n",
        "# Vytvoříme tabulku Automobil\n",
        "mycursor.execute(\"\"\"CREATE TABLE Automobil(\n",
        "    id int,\n",
        "    spz text,\n",
        "    pocet_sedadel int,\n",
        "    max_rychlost int,\n",
        "    nosnost int,\n",
        "    nutna_kvalifikace text,\n",
        "    datum_vyroby date\n",
        ")\"\"\")\n",
        "\n",
        "mydb.commit()\n",
        "\n",
        "# Zapíšeme do ni\n",
        "mycursor.execute(\"\"\"INSERT INTO Automobil\n",
        "(id, spz, pocet_sedadel, max_rychlost, nosnost,  nutna_kvalifikace, datum_vyroby) VALUES\n",
        "(1, '1A1111', 4, 190, 3, 'B',  '2000-09-09'),\n",
        "(2, '2B2222', 2, 220, 2, 'B',  '2020-01-01');\n",
        "\"\"\")\n",
        "\n",
        "mydb.commit()\n",
        "\n",
        "mycursor.execute(\"\"\"SELECT pocet_sedadel, max_rychlost FROM Automobil LIMIT 1\n",
        "\"\"\") # Tento příkaz vypíše počet sedadel a maximální rychlost, ale pouze jeden záznam.\n",
        "\n",
        "myresult = mycursor.fetchall()\n",
        "\n",
        "for pocet_sedadel, max_rychlost in myresult:\n",
        "    print(f\"\"\"\n",
        "    Auto má {pocet_sedadel} sedadel a maximální rychlost {max_rychlost} km/h.\n",
        "    \"\"\")\n",
        "\n",
        "\n",
        "mycursor.close()\n",
        "mydb.close()"
      ]
    },
    {
      "cell_type": "markdown",
      "metadata": {
        "id": "G18MeDZGOqXZ"
      },
      "source": [
        "## GROUP BY\n",
        "Sloučí duplicitní hodnoty v daném atributu. Tedy pokud se v jednom atributu nachází 2 a více stejných hodnot, tak se sloučí a vypíší se pouze jednou.\n",
        "\n",
        "Použití může vypadat následovně."
      ]
    },
    {
      "cell_type": "code",
      "execution_count": null,
      "metadata": {
        "id": "z_2dwo8SOqXc"
      },
      "outputs": [],
      "source": [
        "import mysql.connector\n",
        "\n",
        "mydb = mysql.connector.connect(\n",
        "    host = \"dbs.spskladno.cz\"\n",
        "    ,user = \"rekne_ucitel\"\n",
        "    ,password = \"rekne_ucitel\"\n",
        "    ,database = \"zavisi_na_useru\"\n",
        ")\n",
        "mycursor = mydb.cursor()\n",
        "\n",
        "# Vypůčíme si taulku z předchozí ukázky \n",
        "# a dopíšeme do ní nějaké záznamy s duplicitními hodnotami\n",
        "\n",
        "mycursor.execute(\"\"\"INSERT INTO Automobil\n",
        "(id, spz, pocet_sedadel, max_rychlost, nosnost,  nutna_kvalifikace, datum_vyroby) VALUES\n",
        "(3, '1A1111', 5, 180, 5, 'D',  '2002-09-09'),\n",
        "(4, '3C3333', 2, 220, 2, 'B',  '2020-05-01');\n",
        "\"\"\")\n",
        "\n",
        "mydb.commit()\n",
        "\n",
        "# Nyní použijeme GROUP BY na vypsání unikátních SPZ.\n",
        "mycursor.execute(\"\"\"SELECT spz FROM Automobil GROUP BY spz\n",
        "\"\"\")\n",
        "\n",
        "myresult = mycursor.fetchall()\n",
        "\n",
        "for spz in myresult:\n",
        "    print(f\"\"\"\n",
        "    SPZ: {spz}\n",
        "    \"\"\")\n",
        "\n",
        "mycursor.close()\n",
        "mydb.close()"
      ]
    },
    {
      "cell_type": "markdown",
      "metadata": {
        "id": "17OPDEMuOqXg"
      },
      "source": [
        "## WHERE\n",
        "Kllíčové slovo, které nám dovolí zapsat jakoukoliv podmínku, kterou musí řádek splňovat, aby se zobrazil.\n",
        "\n",
        "Použití může vypadat následovně."
      ]
    },
    {
      "cell_type": "code",
      "execution_count": null,
      "metadata": {
        "id": "dqOmz0PROqXi"
      },
      "outputs": [],
      "source": [
        "import mysql.connector\n",
        "\n",
        "mydb = mysql.connector.connect(\n",
        "    host = \"dbs.spskladno.cz\"\n",
        "    ,user = \"rekne_ucitel\"\n",
        "    ,password = \"rekne_ucitel\"\n",
        "    ,database = \"zavisi_na_useru\"\n",
        ")\n",
        "mycursor = mydb.cursor()\n",
        "\n",
        "# Vypůčíme si taulku z předchozích ukázek \n",
        "# a vypíšeme z ní Automobil, který má ID = 3.\n",
        "\n",
        "mycursor.execute(\"\"\"SELECT * FROM Automobil WHERE id = 3\n",
        "\"\"\")\n",
        "\n",
        "myresult = mycursor.fetchall()\n",
        "\n",
        "for index, spz, pocet_sedadel, max_rychlost, nosnost, nutna_kvalifikace, datum_vyroby in myresult:\n",
        "    print(f\"\"\"\n",
        "    Auto s ID {index}, SPZ {spz}, počtem sedadel {pocet_sedadel}, \n",
        "    maximální rychlostí {max_rychlost}, nosností {nosnost}, \n",
        "    nutná kvalifikace pro řízení {nutna_kvalifikace}, vyrobeno {datum_vyroby}\n",
        "    \"\"\")\n",
        "\n",
        "print(\"======\")\n",
        "# nebo ty, která mají počet sedadel více než 3\n",
        "mycursor.execute(\"\"\"SELECT * FROM Automobil WHERE pocet_sedadel > 3\n",
        "\"\"\")\n",
        "\n",
        "myresult = mycursor.fetchall()\n",
        "\n",
        "for index, spz, pocet_sedadel, max_rychlost, nosnost, nutna_kvalifikace, datum_vyroby in myresult:\n",
        "    print(f\"\"\"\n",
        "    Auto s ID {index}, SPZ {spz}, počtem sedadel {pocet_sedadel}, \n",
        "    maximální rychlostí {max_rychlost}, nosností {nosnost}, \n",
        "    nutná kvalifikace pro řízení {nutna_kvalifikace}, vyrobeno {datum_vyroby}\n",
        "    \"\"\")\n",
        "\n",
        "mycursor.close()\n",
        "mydb.close()"
      ]
    },
    {
      "cell_type": "markdown",
      "metadata": {
        "id": "I5rK0fdKOqXn"
      },
      "source": [
        "## Logické funkce\n",
        "SŘBD umí logické funkce AND, OR, NOT. Tyto funkce se používají spolu s WHERE.\n",
        "\n",
        "AND - vrátí záznamy z tabulky, které splňují všechny podmínky\n",
        "\n",
        "OR - vrátí záznamy z tabulky, které splňují alespoň jednu podmínku\n",
        "\n",
        "NOT - vrátí záznamy z tabulky, které nesplňují podmínku\n",
        "\n",
        "SQL kód pro tyto logické funkce může vypadat následovně"
      ]
    },
    {
      "cell_type": "code",
      "execution_count": null,
      "metadata": {
        "id": "WUcLWOqOOqXp"
      },
      "outputs": [],
      "source": [
        "import mysql.connector\n",
        "\n",
        "mydb = mysql.connector.connect(\n",
        "    host = \"dbs.spskladno.cz\"\n",
        "    ,user = \"rekne_ucitel\"\n",
        "    ,password = \"rekne_ucitel\"\n",
        "    ,database = \"zavisi_na_useru\"\n",
        ")\n",
        "mycursor = mydb.cursor()\n",
        "\n",
        "\n",
        "# Použití funkce AND\n",
        "# Vypůčíme si taulku Automobi z předchozích ukázek \n",
        "# a vypíšeme z ní Automobil, který má spz = 1A1111 a id = 1.\n",
        "mycursor.execute(\"\"\"SELECT * FROM Automobil WHERE spz = '1A1111' AND id = 1 \n",
        "\"\"\")\n",
        "myresult = mycursor.fetchall()\n",
        "\n",
        "\n",
        "for index, spz, pocet_sedadel, max_rychlost, nosnost, nutna_kvalifikace, datum_vyroby in myresult:\n",
        "    print(f\"\"\"\n",
        "    Auto s ID {index}, SPZ {spz}, počtem sedadel {pocet_sedadel}, \n",
        "    maximální rychlostí {max_rychlost}, nosností {nosnost}, \n",
        "    nutná kvalifikace pro řízení {nutna_kvalifikace}, vyrobeno {datum_vyroby}\n",
        "    \"\"\")\n",
        "print(\"====\")\n",
        "\n",
        "\n",
        "# Použití funkce OR\n",
        "# Nyní vypíšeme řádky, které mají pocet_sedadel = 2 nebo nutna_kvalifikace = 'D' \n",
        "mycursor.execute(\"\"\"SELECT * FROM Automobil WHERE \n",
        "pocet_sedadel = 2 OR nutna_kvalifikace = 'D'\n",
        "\"\"\")\n",
        "\n",
        "myresult = mycursor.fetchall()\n",
        "\n",
        "for index, spz, pocet_sedadel, max_rychlost, nosnost, nutna_kvalifikace, datum_vyroby in myresult:\n",
        "    print(f\"\"\"\n",
        "    Auto s ID {index}, SPZ {spz}, počtem sedadel {pocet_sedadel}, \n",
        "    maximální rychlostí {max_rychlost}, nosností {nosnost}, \n",
        "    nutná kvalifikace pro řízení {nutna_kvalifikace}, vyrobeno {datum_vyroby}\n",
        "    \"\"\")\n",
        "print(\"====\")\n",
        "\n",
        "# Použití funkce NOT\n",
        "# Vypíšeme řádky, které namají id = 3\n",
        "\n",
        "mycursor.execute(\"\"\"SELECT * FROM Automobil WHERE NOT id = 3\n",
        "\"\"\")\n",
        "\n",
        "myresult = mycursor.fetchall()\n",
        "\n",
        "for index, spz, pocet_sedadel, max_rychlost, nosnost, nutna_kvalifikace, datum_vyroby in myresult:\n",
        "    print(f\"\"\"\n",
        "    Auto s ID {index}, SPZ {spz}, počtem sedadel {pocet_sedadel}, \n",
        "    maximální rychlostí {max_rychlost}, nosností {nosnost}, \n",
        "    nutná kvalifikace pro řízení {nutna_kvalifikace}, vyrobeno {datum_vyroby}\n",
        "    \"\"\")\n",
        "\n",
        "mycursor.close()\n",
        "mydb.close()"
      ]
    },
    {
      "cell_type": "markdown",
      "metadata": {
        "id": "7Wgb6LmcOqXs"
      },
      "source": [
        "## Cvičení\n",
        "Bude následovat pár úkolů na procvičení\n",
        "\n",
        "### Cvičení 1:\n",
        "Přihlašte se do školní databáze a vypište z tabulky Automobil 3 záznamy."
      ]
    },
    {
      "cell_type": "code",
      "execution_count": null,
      "metadata": {
        "id": "kKw0u2dgOqXv"
      },
      "outputs": [],
      "source": [
        "import mysql.connector\n",
        "\n",
        "mydb = mysql.connector.connect(\n",
        "    host = \"dbs.spskladno.cz\"\n",
        "    ,user = \"rekne_ucitel\"\n",
        "    ,password = \"rekne_ucitel\"\n",
        "    ,database = \"zavisi_na_useru\"\n",
        ")\n",
        "mycursor = mydb.cursor()\n",
        "\n",
        "try:\n",
        "  # TODO: Zde přijde váš kód ->\n",
        "  pass\n",
        "\n",
        "except mysql.connector.Error as chyba:\n",
        "    print(\"Příkaz byl zadán chybně:\\n\", chyba)\n",
        "\n",
        "mycursor.close()\n",
        "mydb.close()"
      ]
    },
    {
      "cell_type": "markdown",
      "metadata": {
        "id": "NalWcEEDOqXw"
      },
      "source": [
        "### Referenční řešení pro kontrolu:\n",
        "<pre>\n",
        "Auto s ID 1, SPZ 1A1111, počtem sedadel 4, \n",
        "maximální rychlostí 190, nosností 3, \n",
        "nutná kvalifikace pro řízení B, vyrobeno 2000-09-09\n",
        "\n",
        "Auto s ID 2, SPZ 2B2222, počtem sedadel 2, \n",
        "maximální rychlostí 220, nosností 2, \n",
        "nutná kvalifikace pro řízení B, vyrobeno 2020-01-01\n",
        "\n",
        "Auto s ID 3, SPZ 1A1111, počtem sedadel 5, \n",
        "maximální rychlostí 180, nosností 5, \n",
        "nutná kvalifikace pro řízení D, vyrobeno 2002-09-09\n",
        "</pre>\n"
      ]
    },
    {
      "cell_type": "markdown",
      "metadata": {
        "id": "riR12qVKOqXy"
      },
      "source": [
        "### Cvičení 2:\n",
        "Přihlašte se do školní databáze a vypište z tabulky Automobil pouze unikátní záznamy atributu pocet_sedadel."
      ]
    },
    {
      "cell_type": "code",
      "execution_count": null,
      "metadata": {
        "id": "5MzbnWKeOqXz"
      },
      "outputs": [],
      "source": [
        "import mysql.connector\n",
        "\n",
        "mydb = mysql.connector.connect(\n",
        "    host = \"dbs.spskladno.cz\"\n",
        "    ,user = \"rekne_ucitel\"\n",
        "    ,password = \"rekne_ucitel\"\n",
        "    ,database = \"zavisi_na_useru\"\n",
        ")\n",
        "mycursor = mydb.cursor()\n",
        "\n",
        "try:\n",
        "  # TODO: Zde přijde váš kód ->\n",
        "  pass\n",
        "\n",
        "except mysql.connector.Error as chyba:\n",
        "    print(\"Příkaz byl zadán chybně:\\n\", chyba)\n",
        "\n",
        "mycursor.close()\n",
        "mydb.close()"
      ]
    },
    {
      "cell_type": "markdown",
      "metadata": {
        "id": "bcFenHcgOqX6"
      },
      "source": [
        "### Referenční řešení pro kontrolu:\n",
        "<pre>\n",
        "počet sedadel: (2,)\n",
        "počet sedadel: (4,)\n",
        "počet sedadel: (5,)\n",
        "</pre>\n"
      ]
    },
    {
      "cell_type": "markdown",
      "metadata": {
        "id": "srbsu4MwOqX7"
      },
      "source": [
        "### Cvičení 3:\n",
        "Přihlašte se do školní databáze a vypište z tabulky Automobil záznamy, které mají atribut datum_vyroby = '2002-09-09'."
      ]
    },
    {
      "cell_type": "code",
      "execution_count": null,
      "metadata": {
        "id": "L_4PF3KxOqX9"
      },
      "outputs": [],
      "source": [
        "import mysql.connector\n",
        "\n",
        "mydb = mysql.connector.connect(\n",
        "    host = \"dbs.spskladno.cz\"\n",
        "    ,user = \"rekne_ucitel\"\n",
        "    ,password = \"rekne_ucitel\"\n",
        "    ,database = \"zavisi_na_useru\"\n",
        ")\n",
        "mycursor = mydb.cursor()\n",
        "\n",
        "try:\n",
        "  # TODO: Zde přijde váš kód ->\n",
        "  pass\n",
        "\n",
        "except mysql.connector.Error as chyba:\n",
        "    print(\"Příkaz byl zadán chybně:\\n\", chyba)\n",
        "\n",
        "mycursor.close()\n",
        "mydb.close()"
      ]
    },
    {
      "cell_type": "markdown",
      "metadata": {
        "id": "1sCKOU8fOqX-"
      },
      "source": [
        "### Referenční řešení pro kontrolu:\n",
        "<pre>\n",
        "Auto s ID 3, SPZ 1A1111, počtem sedadel 5, \n",
        "maximální rychlostí 180, nosností 5, \n",
        "nutná kvalifikace pro řízení D, vyrobeno 2002-09-09\n",
        "</pre>"
      ]
    },
    {
      "cell_type": "markdown",
      "metadata": {
        "id": "tzVCrWYxOqYB"
      },
      "source": [
        "### Cvičení 4:\n",
        "Přihlašte se do školní databáze a vypište z tabulky Automobil\n",
        "* záznamy, které mají pocet_sedadel = 2 nebo spz = '1A1111'. Vypište pouze atributy pocet_sedadel a spz.\n",
        "\n",
        "* Poté vypište záznamy, které mají spz = '1A1111' a max_rychlost = 180. Vypište pouze atributy spz a max_rychlost.\n",
        "\n",
        "* Nakonec vypište záznamy, které nemají nutna_kvalifikace = 'D'. Vypište pouze atrbuty id a nutna_kvalifikace."
      ]
    },
    {
      "cell_type": "code",
      "execution_count": null,
      "metadata": {
        "id": "LP37-zlIOqYC"
      },
      "outputs": [],
      "source": [
        "import mysql.connector\n",
        "\n",
        "mydb = mysql.connector.connect(\n",
        "    host = \"dbs.spskladno.cz\"\n",
        "    ,user = \"rekne_ucitel\"\n",
        "    ,password = \"rekne_ucitel\"\n",
        "    ,database = \"zavisi_na_useru\"\n",
        ")\n",
        "mycursor = mydb.cursor()\n",
        "\n",
        "try:\n",
        "  # TODO: Zde přijde váš kód ->\n",
        "  pass\n",
        "\n",
        "\n",
        "\n",
        "except mysql.connector.Error as chyba:\n",
        "    print(\"Příkaz byl zadán chybně:\\n\", chyba)\n",
        "\n",
        "mycursor.close()\n",
        "mydb.close()"
      ]
    },
    {
      "cell_type": "markdown",
      "metadata": {
        "id": "XXoECteXOqYD"
      },
      "source": [
        "### Referenční řešení pro kontrolu:\n",
        "<pre>\n",
        "Auto s SPZ 1A1111 má 4 sedadel\n",
        "Auto s SPZ 2B2222 má 2 sedadel\n",
        "Auto s SPZ 1A1111 má 5 sedadel\n",
        "Auto s SPZ 3C3333 má 2 sedadel\n",
        "====\n",
        "Auto s SPZ 1A1111 jede až 180\n",
        "====\n",
        "Auto s ID 1, můžete řídit, jen když máte kvalifikaci B\n",
        "Auto s ID 2, můžete řídit, jen když máte kvalifikaci B\n",
        "Auto s ID 4, můžete řídit, jen když máte kvalifikaci B\n",
        "</pre>"
      ]
    }
  ],
  "metadata": {
    "interpreter": {
      "hash": "c796eb3e3b883799f02af01b49c30e973f5d9f6ae7feb75a7f340683beca589a"
    },
    "kernelspec": {
      "display_name": "Python 3.10.0 64-bit (system)",
      "language": "python",
      "name": "python3"
    },
    "language_info": {
      "name": "python",
      "version": "3.10.0"
    },
    "orig_nbformat": 4,
    "colab": {
      "name": "Where_limit_groupBy_logFunkce_zadani.ipynb",
      "provenance": [],
      "collapsed_sections": [],
      "include_colab_link": true
    }
  },
  "nbformat": 4,
  "nbformat_minor": 0
}