{
  "cells": [
    {
      "cell_type": "markdown",
      "metadata": {
        "id": "view-in-github",
        "colab_type": "text"
      },
      "source": [
        "<a href=\"https://colab.research.google.com/github/JaroslavHolecek/Teaching/blob/master/JupyterNotebook/SQL/Vztahy_11_1N_MN_zadani.ipynb\" target=\"_parent\"><img src=\"https://colab.research.google.com/assets/colab-badge.svg\" alt=\"Open In Colab\"/></a>"
      ]
    },
    {
      "cell_type": "markdown",
      "metadata": {
        "id": "HokdP9T0844q"
      },
      "source": [
        "# Relace (vztahy) mezi tabulkami\n",
        "Jedním z cílů kvalitního návrhu databáze je odstranit redundanci dat (duplicitní - opakující se data).\n",
        "\n",
        "Jednoduše \"každá informace existuje v databázi pouze jednou\".\n",
        "\n",
        "Dosáhneme toho tak, že data rozdělíme do více tabulek s různými entitami (objekty), aby byla každá entita reprezentována pouze jednou.\n",
        "\n",
        "Potom je nutné SŘBD poskytnout způsob, jak rozdělené informace opět spojit a také hlídat, že jsou data správně (jsou konzistentí).\n",
        "\n",
        "K tomu využíváme vlastní a cizí klíče. Chcete-li však tento krok provést správně, je nutné pochopit vztahy (relace) mezi tabulkami a tyto relace potom v databázi správně zaznamenat."
      ]
    },
    {
      "cell_type": "markdown",
      "metadata": {
        "id": "gg01zh4L8449"
      },
      "source": [
        "## Vztah 1:1\n",
        "Jedná se o spojení, kdy jedné položce v první tabulce odpovídá jedna položka v druhé tabulce. Nebo jedné položce v tabulce odpovídá jdna konkrétní informace. \n",
        "\n",
        "Příkladem může být tabulka Občan a tabulka Trvalé bydliště, kdy jednomu záznamu v tabulce Občan odpovídá jeden záznam v tabulce Trvalé bydliště a noapak jednomu záznamu v tabulce Trvalé bydliště odpovídá jeden záznam v tabulce Občan.\n",
        "\n",
        "(Předpokládejme, že na jedné adrese může mít pouze jeden človšk trvalé bydliště)\n",
        "\n",
        "Nebo také informace \"jméno\" v tabulce Občan - každý občan má jedno jméno (více se jich do buňky v tabulce nevejde) a také každé jméno patří pouze jednomu občanovi (řádku v tabulce Občan)\n",
        "\n",
        "<img src=\"https://raw.githubusercontent.com/JaroslavHolecek/Teaching/master/JupyterNotebook/SQL/Images/JupiterNotebook_11_vztah.png\" alt=\"Příklad vztahu 1:1\">\n",
        "\n",
        "SQL kód pro vztah 1:1 by mohl vypadat následovně:"
      ]
    },
    {
      "cell_type": "code",
      "execution_count": null,
      "metadata": {
        "id": "crNYR2S4845B"
      },
      "outputs": [],
      "source": [
        "!pip install mysql.connector"
      ]
    },
    {
      "cell_type": "code",
      "execution_count": 9,
      "metadata": {
        "id": "rlqB8RDO845H"
      },
      "outputs": [],
      "source": [
        "import mysql.connector\n",
        "\n",
        "mydb = mysql.connector.connect(\n",
        "    host = \"dbs.spskladno.cz\"\n",
        "    ,user = \"rekne_ucitel\"\n",
        "    ,password = \"rekne_ucitel\"\n",
        "    ,database = \"zavisi_na_useru\"\n",
        ")\n",
        "\n",
        "mycursor = mydb.cursor()\n",
        "\n",
        "\n",
        "try:\n",
        "  mycursor.execute(\"\"\"DROP TABLE Obcan\"\"\")\n",
        "except:\n",
        "  print(\"Tabulka Obcan zřejmě neexistovala\")\n",
        "try:\n",
        "  mycursor.execute(\"\"\"DROP TABLE TrvaleBydliste\"\"\")\n",
        "except:\n",
        "  print(\"Tabulka TrvaleBydliste zřejmě neexistovala\")\n",
        "\n",
        "# Mějme tabulku Trvalé bydliště\n",
        "mycursor.execute(\"\"\"CREATE TABLE TrvaleBydliste(\n",
        "    id int PRIMARY KEY AUTO_INCREMENT,\n",
        "    trvale_bydliste char(100) UNIQUE NOT NULL\n",
        ")\"\"\") \n",
        "\n",
        "# a mějme tabulku Občan\n",
        "mycursor.execute(\"\"\"CREATE TABLE Obcan(\n",
        "    id int PRIMARY KEY AUTO_INCREMENT,\n",
        "    jmeno text,\n",
        "    prijmeni text,\n",
        "    trvale_bydliste int UNIQUE, /* UNIQUE zabrání přiřazení stejného trv. bydlište více občanům */\n",
        "    FOREIGN KEY (trvale_bydliste) REFERENCES TrvaleBydliste(id)\n",
        ")\"\"\")\n",
        "\n",
        "# Použitím cizího klíče jsme vytvořili mezi dvěma tabulkami vztah 1:1 -> To, že nemůžeme více občanům přiřadit stejné trvalé bydliště je docíleno slovem UNIQUE v tabulce Obcan.\n",
        "# V tomto případě bychom mohli tabulky spojit do jedné - záleží na (našem) návrhu DB a předpokládaném použití .\n",
        "\n",
        "# mycursor.execute(\"\"\"DROP TABLE Obcan, TrvaleBydliste\"\"\")\n",
        "\n",
        "mydb.commit()"
      ]
    },
    {
      "cell_type": "markdown",
      "metadata": {
        "id": "m5iqfXsG845K"
      },
      "source": [
        "## Vztah 1:N\n",
        "Jedné položce (záznamu) v první tabulce odpovídá n-položek (více záznamů) v druhé tabulce. \n",
        "\n",
        "Jako příklad lze uvést tabulku Skladatel a tabulku Píseň, kde píseň může mít pouze jednoho skladatele, ale skladatel může mít n-písní.\n",
        "\n",
        "<img src=\"https://raw.githubusercontent.com/JaroslavHolecek/Teaching/master/JupyterNotebook/SQL/Images/JupiterNotebook_1N_vztah.png\" alt=\"Příklad vztahu 1:N\">\n"
      ]
    },
    {
      "cell_type": "markdown",
      "metadata": {
        "id": "cGPHIfP7845N"
      },
      "source": [
        "Vztah 1:N by v SQL by mohl vypadat následovně"
      ]
    },
    {
      "cell_type": "code",
      "execution_count": 10,
      "metadata": {
        "id": "-S-geBYk845O"
      },
      "outputs": [],
      "source": [
        "import mysql.connector\n",
        "\n",
        "mydb = mysql.connector.connect(\n",
        "    host = \"dbs.spskladno.cz\"\n",
        "    ,user = \"rekne_ucitel\"\n",
        "    ,password = \"rekne_ucitel\"\n",
        "    ,database = \"zavisi_na_useru\"\n",
        ")\n",
        "mycursor = mydb.cursor()\n",
        "\n",
        "# Mějme tabulku Skladatel\n",
        "mycursor.execute(\"\"\"CREATE TABLE Skladatel(\n",
        "    id int PRIMARY KEY AUTO_INCREMENT,\n",
        "    jmeno text,\n",
        "    prijmeni text\n",
        ")\"\"\") \n",
        "\n",
        "# a mějme tabulku Píseň\n",
        "mycursor.execute(\"\"\"CREATE TABLE Pisen(\n",
        "    id int PRIMARY KEY AUTO_INCREMENT,\n",
        "    nazev_skladby text,\n",
        "    autor int, \n",
        "    FOREIGN KEY (autor) REFERENCES Skladatel(id)\n",
        ")\"\"\")\n",
        "\n",
        "# Použitím cizího klíče jsme vytvořili mezi dvěma tabulkami vztah 1:N.\n",
        "# SQL dotazy pro vytvoření 1:N vztahu se nijak kromě UNIQUE nijak neliší od dotazů pro vytvoření vztahu 1:1.\n",
        "# Důležitý je však myšlenkový pochod (rozdíl) mězi těmito vztahy.\n",
        "\n",
        "# Kdybychom chtěli tabulky Skladatel a Píseň spojit do jedné tabulky, tak by náš\n",
        "# skladatel, už nesměl nic složit. Kdyby skladatel složil novou píseň, \n",
        "# tak bychom museli do tabulky přidat nový atribut a to pokaždé, \n",
        "# když skladatel složí něco nového.\n",
        "# A zároveň bychom se tímto způsobem připravili o jednoduchý způsob jak vypsat všechny písně.\n",
        "\n",
        "# Případně bychom museli ke každé písni zapisovat stále stejné údaje o skladateli -> data by se opakovala\n",
        "\n",
        "# mycursor.execute(\"\"\"DROP TABLE Pisen, Skladatel\"\"\")\n",
        "\n",
        "mydb.commit()"
      ]
    },
    {
      "cell_type": "markdown",
      "metadata": {
        "id": "aO8Mgs5G845R"
      },
      "source": [
        "## Vztah M:N\n",
        "m-položkám (každému z více záznamů) v první tabulce může odpovídat n-položek (více záznamů) v druhé tabulce a naopak každému z více záznamů v druhé tabulce může odpovídat více záznamů v první tabulce.\n",
        "\n",
        "Např. tabulka Píseň a tabulka Zpěvák. \n",
        "\n",
        "Jeden zpěvák může zpívat více písní a zároveň jednu píseň může zpívat více zpěváků.\n",
        "\n",
        "<img src=\"https://raw.githubusercontent.com/JaroslavHolecek/Teaching/master/JupyterNotebook/SQL/Images/JupiterNotebook_MN_vztah.png\" alt=\"Příklad vztahu M:N\">\n",
        "\n",
        "Abychom mohli tento vztah zachytot v databázi, musíme vytvoři třetí pomocnou \"mezi\" tabulku. Tuto tabulku někdy do ER-diagramu zakreslujeme, někdy ji tam nenajdete - záleží mimo volby návrháře také zda v této mezi-tabulce chceme uchovávat ještě nějaké přídavné informace (např. kdy zpěvák píseň nazpíval a pod.)\n",
        "\n",
        "Kód pro vytvoření M:N vztahů by mohl vypadat následovně:"
      ]
    },
    {
      "cell_type": "code",
      "execution_count": null,
      "metadata": {
        "id": "TTKEAAmM845b"
      },
      "outputs": [],
      "source": [
        "import mysql.connector\n",
        "\n",
        "mydb = mysql.connector.connect(\n",
        "    host = \"dbs.spskladno.cz\"\n",
        "    ,user = \"rekne_ucitel\"\n",
        "    ,password = \"rekne_ucitel\"\n",
        "    ,database = \"zavisi_na_useru\"\n",
        ")\n",
        "mycursor = mydb.cursor()\n",
        "\n",
        "# Mějme tabulku Zpevak\n",
        "mycursor.execute(\"\"\"CREATE TABLE Zpevak(\n",
        "    id int PRIMARY KEY AUTO_INCREMENT,\n",
        "    jmeno text,\n",
        "    prijmeni text\n",
        ")\"\"\") \n",
        "\n",
        "# Mějme tabulku Píseň\n",
        "mycursor.execute(\"\"\"CREATE TABLE Pisen(\n",
        "    id int PRIMARY KEY AUTO_INCREMENT,\n",
        "    nazev_skladby text\n",
        ")\"\"\")\n",
        "\n",
        "# A mějme propojivací tabulku, protože M:N vyžaduje 3 tabulky.\n",
        "mycursor.execute(\"\"\"CREATE TABLE KdoCoNazpival(\n",
        "    zpevak int NOT NULL,\n",
        "    pisen int NOT NULL,\n",
        "    FOREIGN KEY (zpevak) REFERENCES Zpevak(id),\n",
        "    FOREIGN KEY (pisen) REFERENCES Pisen(id)\n",
        ")\"\"\")\n",
        "\n",
        "mydb.commit()"
      ]
    },
    {
      "cell_type": "markdown",
      "metadata": {
        "id": "cRHzleSG845f"
      },
      "source": [
        "Následující obrázek znázorňuje jak může vypadat databáze s použitím 1:N a M:N vztahů.\n",
        "\n",
        "Všimněte si, že v tabulkách jsou zapsané i \"provazující\" sloupečky.\n",
        "\n",
        " <img src=\"https://raw.githubusercontent.com/JaroslavHolecek/Teaching/master/JupyterNotebook/SQL/Images/JupiterNotebook_PrikladDatabaze.png\" alt=\"Příklad vztahů v databázi\">"
      ]
    },
    {
      "cell_type": "markdown",
      "metadata": {
        "id": "HE2ElTTq845h"
      },
      "source": [
        "## Cvičení\n",
        "Dnešní cvičení bude pouze na zamyšlení.\n",
        "\n",
        "Zamyslete se nad tím, jakým vztahem realizujeme následující tabulky a kde bude vlastní a cizí klíč\n",
        "\n",
        "### Cvičení 1:\n",
        "Mazlíček:\n",
        "* id\n",
        "* jake_zvire\n",
        "* jmeno\n",
        "\n",
        "Majitel:\n",
        "* id\n",
        "* jmeno \n",
        "* prijmeni \n",
        "* mazlicek\n",
        "\n",
        "Vztah: \n",
        "\n",
        "Vlastní klíč: \n",
        "\n",
        "Cizí klíč: \n",
        "\n",
        "### Cvičení 2:\n",
        "Pracovník:\n",
        "* id \n",
        "* jmeno\n",
        "* prijmeni\n",
        "\n",
        "Služební Auto:\n",
        "* id\n",
        "* znacka\n",
        "* spz\n",
        "* ridic\n",
        "\n",
        "Vztah: \n",
        "\n",
        "Vlastní klíč: \n",
        "\n",
        "Cizí klíč:\n",
        "\n",
        "### Cvičení 3:\n",
        "Učitel:\n",
        "* id \n",
        "* jmeno\n",
        "* prijmeni\n",
        "* katedra\n",
        "\n",
        "Předmět:\n",
        "* id\n",
        "* nazev\n",
        "\n",
        "Vztah: \n",
        "\n",
        "Vlastní klíč: \n",
        "\n",
        "Cizí klíč: \n"
      ]
    }
  ],
  "metadata": {
    "interpreter": {
      "hash": "c796eb3e3b883799f02af01b49c30e973f5d9f6ae7feb75a7f340683beca589a"
    },
    "kernelspec": {
      "display_name": "Python 3.10.0 64-bit (system)",
      "language": "python",
      "name": "python3"
    },
    "language_info": {
      "codemirror_mode": {
        "name": "ipython",
        "version": 3
      },
      "file_extension": ".py",
      "mimetype": "text/x-python",
      "name": "python",
      "nbconvert_exporter": "python",
      "pygments_lexer": "ipython3",
      "version": "3.10.0"
    },
    "orig_nbformat": 4,
    "colab": {
      "name": "Vztahy_11_1N_MN_zadani.ipynb",
      "provenance": [],
      "collapsed_sections": [],
      "include_colab_link": true
    }
  },
  "nbformat": 4,
  "nbformat_minor": 0
}