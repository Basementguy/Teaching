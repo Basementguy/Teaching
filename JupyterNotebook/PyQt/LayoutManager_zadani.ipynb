{
  "cells": [
    {
      "cell_type": "markdown",
      "metadata": {
        "id": "view-in-github",
        "colab_type": "text"
      },
      "source": [
        "<a href=\"https://colab.research.google.com/github/JaroslavHolecek/Teaching/blob/master/JupyterNotebook/PyQt/LayoutManager_zadani.ipynb\" target=\"_parent\"><img src=\"https://colab.research.google.com/assets/colab-badge.svg\" alt=\"Open In Colab\"/></a>"
      ]
    },
    {
      "cell_type": "markdown",
      "metadata": {
        "id": "NQGno9_ZSzfW"
      },
      "source": [
        "# Layout manager\n",
        "Nyní umíme zpracovávat vstup a podle něj reagovat. Je na čase upravovat design aplikace tak, aby byla přehledná.<br>\n",
        "Ukážeme si několik základních možností, jak rozložit prvky, které knihovna PyQt5 nabízí."
      ]
    },
    {
      "cell_type": "code",
      "execution_count": null,
      "metadata": {
        "id": "5KLTXhf1Szfg"
      },
      "outputs": [],
      "source": [
        "! pip install PyQt5"
      ]
    },
    {
      "cell_type": "markdown",
      "metadata": {
        "id": "ghuBIvsCSzfo"
      },
      "source": [
        "## Horizontální rozložení - QHBoxLayout\n",
        "Je rozložení, které jsme prozatím používali. Vypadá následovně: "
      ]
    },
    {
      "cell_type": "code",
      "execution_count": null,
      "metadata": {
        "id": "0AFqE7O0Szfs"
      },
      "outputs": [],
      "source": [
        "from PyQt5 import QtWidgets\n",
        "from PyQt5 import QtGui\n",
        "\n",
        "app = QtWidgets.QApplication([])\n",
        "\n",
        "hlavni_okno = QtWidgets.QWidget()  # hlavní okno\n",
        "hlavni_okno.setWindowTitle(\"Můj supr program\")  # změní název okna\n",
        "\n",
        "usporadani = QtWidgets.QHBoxLayout()  # QHBoxLayout skládá prvky vedle sebe (H - Horizontal)\n",
        "hlavni_okno.setLayout(usporadani)\n",
        "\n",
        "napis = QtWidgets.QLabel(\"Nějaký text...\")  # popisek\n",
        "usporadani.addWidget(napis)\n",
        "\n",
        "tlacitko = QtWidgets.QPushButton(\"Tlačítko\")  # tlačítko\n",
        "usporadani.addWidget(tlacitko)\n",
        "\n",
        "vstup = QtWidgets.QLineEdit()  # uživatelský vstup\n",
        "usporadani.addWidget(vstup)\n",
        "\n",
        "hlavni_okno.show()\n",
        "\n",
        "app.exec()\n"
      ]
    },
    {
      "cell_type": "markdown",
      "metadata": {
        "id": "aZdTdpbpSzfw"
      },
      "source": [
        "<b>Výsledek:</b><br>\n",
        "<img src=\"https://raw.githubusercontent.com/JaroslavHolecek/Teaching/master/JupyterNotebook/PyQt/images/img_QHBoxLayout.png\">"
      ]
    },
    {
      "cell_type": "markdown",
      "metadata": {
        "id": "3DOGZalsSzfy"
      },
      "source": [
        "## Vertikální rozložení - QVBoxLayout\n",
        "V tomto rozložení, se bloky budou skládat pod sebe."
      ]
    },
    {
      "cell_type": "code",
      "execution_count": null,
      "metadata": {
        "id": "6Eq1eOClSzfz"
      },
      "outputs": [],
      "source": [
        "from PyQt5 import QtWidgets\n",
        "from PyQt5 import QtGui\n",
        "\n",
        "app = QtWidgets.QApplication([])\n",
        "\n",
        "hlavni_okno = QtWidgets.QWidget()  # hlavní okno\n",
        "hlavni_okno.setWindowTitle(\"Můj supr program\")  # změní název okna\n",
        "\n",
        "usporadani = QtWidgets.QVBoxLayout()  # QVBoxLayout skládá prvky pod sebe\n",
        "hlavni_okno.setLayout(usporadani)\n",
        "\n",
        "napis = QtWidgets.QLabel(\"Nějaký text...\")  # popisek\n",
        "usporadani.addWidget(napis)\n",
        "\n",
        "tlacitko = QtWidgets.QPushButton(\"Tlačítko\")  # tlačítko\n",
        "usporadani.addWidget(tlacitko)\n",
        "\n",
        "vstup = QtWidgets.QLineEdit()  # uživatelský vstup\n",
        "usporadani.addWidget(vstup)\n",
        "\n",
        "hlavni_okno.show()\n",
        "\n",
        "app.exec()"
      ]
    },
    {
      "cell_type": "markdown",
      "metadata": {
        "id": "HQQCd0GrSzf1"
      },
      "source": [
        "<b>Výsledek:</b><br>\n",
        "<img src=\"https://raw.githubusercontent.com/JaroslavHolecek/Teaching/master/JupyterNotebook/PyQt/images/img_QVBoxLayout.png\"><br><br>\n",
        "Předchozí dvě rozložení jsou velmi jednoduché, nastavíme layout a PyQt5 se o vše postará. Ne vždy je horizontální, nebo vertikální rozložení to, co hledáme.<br>\n",
        "## Uspořádání do tabulky - QGridLayout\n",
        "Knihovna PyQt5 umí, mimo jiné, také srovnávat prvky do tabulky o námi zadaných rozměrech."
      ]
    },
    {
      "cell_type": "code",
      "execution_count": null,
      "metadata": {
        "id": "VlyntjsRSzf3"
      },
      "outputs": [],
      "source": [
        "from PyQt5 import QtWidgets\n",
        "from PyQt5 import QtGui\n",
        "\n",
        "app = QtWidgets.QApplication([])\n",
        "\n",
        "hlavni_okno = QtWidgets.QWidget()  # hlavní okno\n",
        "hlavni_okno.setWindowTitle(\"Můj supr program\")  # změní název okna\n",
        "\n",
        "usporadani = QtWidgets.QGridLayout()  # vybereme si uspořádání do tabulky\n",
        "\n",
        "# vytvoříme si tlačítko\n",
        "tlacitko = QtWidgets.QPushButton(\"Tlačítko na lokaci (0, 0)\")\n",
        "\n",
        "# přidáme ho do uspořádání a přiřadíme lokaci\n",
        "# PyQt5 si lokaci určuje od levého horního rohu, který má souřadnice (0, 0)\n",
        "# pokud chceme lokaci změnit, změníme pouze souřadnice\n",
        "usporadani.addWidget(tlacitko, 0, 0)\n",
        "\n",
        "# dál vše probíha stejně\n",
        "# vytvoříme tlačítko a přiřadíme mu lokaci\n",
        "usporadani.addWidget(QtWidgets.QPushButton(\"Tlačítko na lokaci (0, 1)\"), 0, 1)\n",
        "usporadani.addWidget(QtWidgets.QPushButton(\"Tlačítko na lokaci (0, 2)\"), 0, 2)\n",
        "usporadani.addWidget(QtWidgets.QPushButton(\"Tlačítko na lokaci (1, 0)\"), 1, 0)\n",
        "usporadani.addWidget(QtWidgets.QPushButton(\"Tlačítko na lokaci (1, 1)\"), 1, 1)\n",
        "usporadani.addWidget(QtWidgets.QPushButton(\"Tlačítko na lokaci (1, 2)\"), 1, 2)\n",
        "usporadani.addWidget(QtWidgets.QPushButton(\"Tlačítko na lokaci (2, 0)\"), 2, 0)\n",
        "usporadani.addWidget(QtWidgets.QPushButton(\"Tlačítko na lokaci (2, 1)\"), 2, 1)\n",
        "usporadani.addWidget(QtWidgets.QPushButton(\"Tlačítko na lokaci (2, 2)\"), 2, 2)\n",
        "\n",
        "hlavni_okno.setLayout(usporadani)\n",
        "\n",
        "hlavni_okno.show()\n",
        "\n",
        "app.exec()\n"
      ]
    },
    {
      "cell_type": "markdown",
      "metadata": {
        "id": "X-VxiOVaSzf6"
      },
      "source": [
        "<b>Výsledek:</b><br>\n",
        "<img src=\"https://raw.githubusercontent.com/JaroslavHolecek/Teaching/master/JupyterNotebook/PyQt/images/img_QGridLayout.png\"><br><br>\n",
        "\n",
        "Tento kód můžeme zjednodušit pomocí 2 for-cyklů, které se postarají o správné posazení tlačítek do uspořádání i o správný popisek."
      ]
    },
    {
      "cell_type": "code",
      "execution_count": null,
      "metadata": {
        "id": "Dv2N6E2pSzf8"
      },
      "outputs": [],
      "source": [
        "from PyQt5 import QtWidgets\n",
        "from PyQt5 import QtGui\n",
        "\n",
        "app = QtWidgets.QApplication([])\n",
        "\n",
        "hlavni_okno = QtWidgets.QWidget()  # hlavní okno\n",
        "hlavni_okno.setWindowTitle(\"Můj supr program\")  # změní název okna\n",
        "\n",
        "usporadani = QtWidgets.QGridLayout()  # vybereme si uspořádání do tabulky\n",
        "\n",
        "pocet_tlacitek_na_ose_x = 3\n",
        "pocet_tlacitek_na_ose_y = 3\n",
        "\n",
        "for x in range(pocet_tlacitek_na_ose_x):  # tento cylus prochází osu x\n",
        "    for y in range(pocet_tlacitek_na_ose_y):  # tento vnořený cyklus prochází osu y\n",
        "        usporadani.addWidget(\n",
        "            QtWidgets.QPushButton(f\"Tlačítko na lokaci ({x}, {y})\"),\n",
        "            x,\n",
        "            y,\n",
        "        )  # zde vytváříme tlačítko a přiřazujeme mu lokaci podle toho v jaké fázi chodu (hodnotách x a y) se for-cykly nachází\n",
        "\n",
        "hlavni_okno.setLayout(usporadani)\n",
        "\n",
        "hlavni_okno.show()\n",
        "\n",
        "app.exec()\n"
      ]
    },
    {
      "cell_type": "markdown",
      "metadata": {
        "id": "tdt2Hk9NSzf_"
      },
      "source": [
        "<b>Výsledek:</b><br>\n",
        "<img src=\"https://raw.githubusercontent.com/JaroslavHolecek/Teaching/master/JupyterNotebook/PyQt/images/img_QGridLayout.png\"><br><br>\n",
        "\n",
        "Jak můžeme vidět, kód kde jsme použili for-cykly je kratší, přehlednější a výrazně snáze lze změnit počet tlačítek."
      ]
    },
    {
      "cell_type": "markdown",
      "metadata": {
        "id": "H6FbDssnSzgB"
      },
      "source": [
        "# Uspořádání pro formulář - QFormLayout\n",
        "Velmi častý druh GUI je formulář - proto pro něj existuje i speciální Layout manager."
      ]
    },
    {
      "cell_type": "code",
      "execution_count": null,
      "metadata": {
        "id": "HgbvulUvSzgE"
      },
      "outputs": [],
      "source": [
        "from PyQt5 import QtWidgets\n",
        "from PyQt5 import QtGui\n",
        "\n",
        "app = QtWidgets.QApplication([])\n",
        "\n",
        "hlavni_okno = QtWidgets.QWidget()  # hlavní okno\n",
        "hlavni_okno.setWindowTitle(\"Můj supr program\")  # změní název okna\n",
        "\n",
        "usporadani = QtWidgets.QFormLayout()  # vybereme si uspořádání pro formuláře\n",
        "\n",
        "nazev = \"Jméno:\"  # název řádku\n",
        "druh_vstupu = QtWidgets.QLineEdit()  # druh vstupu\n",
        "usporadani.addRow(\n",
        "    nazev, druh_vstupu\n",
        ")  # do formuláře se nezkládají samotné elementy, ale celé řádky\n",
        "\n",
        "# Předchozí 3 řádky můžeme napsat do 1 řádku kódu\n",
        "usporadani.addRow(\"Ročník:\", QtWidgets.QLineEdit())\n",
        "\n",
        "hlavni_okno.setLayout(usporadani)\n",
        "\n",
        "hlavni_okno.show()\n",
        "\n",
        "app.exec()\n"
      ]
    },
    {
      "cell_type": "markdown",
      "metadata": {
        "id": "JAaOP4cTSzgF"
      },
      "source": [
        "<b>Výsledek:</b><br>\n",
        "<img src=\"https://raw.githubusercontent.com/JaroslavHolecek/Teaching/master/JupyterNotebook/PyQt/images/img_QFormLayout.png\"><br><br>\n",
        "\n",
        "Jak si můžeme povšimnout, QFormlayout umožňuje vytvářet pouze 2 sloupečkové formuláře a to hlavně proto, že víc sloupečků, v naprosté většině formulářů, není třeba. Pokud bychom chtěli více sloupečků, budeme si muset vystačit s tabulkovým rozpoložením."
      ]
    },
    {
      "cell_type": "markdown",
      "source": [
        "## Vnoření typů rozložení\n",
        "Jednotlivé typy rozložení můžeme také kombinovat - vkládat jeden do druhého.\n"
      ],
      "metadata": {
        "id": "KEv-xwP0WNUS"
      }
    },
    {
      "cell_type": "code",
      "source": [
        "from PyQt5 import QtWidgets\n",
        "from PyQt5 import QtGui\n",
        "\n",
        "app = QtWidgets.QApplication([])\n",
        "\n",
        "hlavni_okno = QtWidgets.QWidget()  # hlavní okno\n",
        "hlavni_okno.setWindowTitle(\"Můj supr program\")  # změní název okna\n",
        "\n",
        "pod_sebe = QtWidgets.QVBoxLayout()  # QVBoxLayout skládá prvky pod sebe\n",
        "hlavni_okno.setLayout(pod_sebe)\n",
        "\n",
        "pod_sebe.addWidget(QtWidgets.QLabel(\"První nápis\"))\n",
        "pod_sebe.addWidget(QtWidgets.QLabel(\"Druhý nápis\"))\n",
        "\n",
        "vedle_sebe = QtWidgets.QHBoxLayout()  # QHBoxLayout skládá prvky pod sebe\n",
        "pod_sebe.addLayout(vedle_sebe) # do další (3.) buňky pod_sebe vložíme místo konkrétního prvku jiný Layout manager\n",
        "\n",
        "vedle_sebe.addWidget(QtWidgets.QLabel(\"Třetí nápis\"))\n",
        "vedle_sebe.addWidget(QtWidgets.QPushButton(\"Tlačítko\"))\n",
        "\n",
        "pod_sebe.addWidget(QtWidgets.QLabel(\"Čtvrtý nápis\")) # vládání do jednotlivých managerů lze libovolně kombinovat\n",
        "\n",
        "hlavni_okno.show()\n",
        "\n",
        "app.exec()"
      ],
      "metadata": {
        "id": "6j5LVg3IWNt6"
      },
      "execution_count": null,
      "outputs": []
    },
    {
      "cell_type": "markdown",
      "source": [
        "<b>Výsledek:</b><br>\n",
        "<img src=\"https://raw.githubusercontent.com/JaroslavHolecek/Teaching/master/JupyterNotebook/PyQt/images/img_kombinace_layout.png\"><br><br>"
      ],
      "metadata": {
        "id": "xKAVad2fYO28"
      }
    },
    {
      "cell_type": "markdown",
      "metadata": {
        "id": "3mrC96vKSzgH"
      },
      "source": [
        "## Cvičení\n",
        "V tomto notebooku, žádné cvičení není, protože, by se jednalo o pouhé kopírování předchozích ukázek - použijte znalosti pro vytvoření vaší aplikace (např. kalkulačky).<br>Zájemci se mohou podívat na tento <a href=\"https://realpython.com/python-pyqt-layout/\">tutorial</a>, kde je LayoutManager probraný do větších detailů."
      ]
    }
  ],
  "metadata": {
    "interpreter": {
      "hash": "e7370f93d1d0cde622a1f8e1c04877d8463912d04d973331ad4851f04de6915a"
    },
    "kernelspec": {
      "display_name": "Python 2.7.18 64-bit",
      "language": "python",
      "name": "python3"
    },
    "language_info": {
      "codemirror_mode": {
        "name": "ipython",
        "version": 3
      },
      "file_extension": ".py",
      "mimetype": "text/x-python",
      "name": "python",
      "nbconvert_exporter": "python",
      "pygments_lexer": "ipython3",
      "version": "3.8.10"
    },
    "orig_nbformat": 4,
    "colab": {
      "name": "LayoutManager_zadani.ipynb",
      "provenance": [],
      "include_colab_link": true
    }
  },
  "nbformat": 4,
  "nbformat_minor": 0
}