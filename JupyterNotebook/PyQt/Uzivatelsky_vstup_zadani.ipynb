{
  "cells": [
    {
      "cell_type": "markdown",
      "metadata": {
        "id": "view-in-github",
        "colab_type": "text"
      },
      "source": [
        "<a href=\"https://colab.research.google.com/github/JaroslavHolecek/Teaching/blob/master/JupyterNotebook/PyQt/Uzivatelsky_vstup_zadani.ipynb\" target=\"_parent\"><img src=\"https://colab.research.google.com/assets/colab-badge.svg\" alt=\"Open In Colab\"/></a>"
      ]
    },
    {
      "cell_type": "markdown",
      "metadata": {
        "id": "Gc66DaKbGW2M"
      },
      "source": [
        "# Zpracování uživatelského vstupu\n",
        "Obvykle chceme, abychom mohli do aplikace také informace zadávat a následně zpracovat.<br>\n",
        "Vytvoříme si tedy jednoduché okno s textem, textovým polem a tlačítkem.\n",
        "\n",
        "## QLineEdit\n",
        "Pro zadání <strong>textových</strong> vstupních informací Můžeme využít Widget QLineEdit.<br>\n",
        "Jako text můžeme samozřejmě zadat i číslice - jen před jejich použitím jako <strong>čísla</strong> nesmíme zapomenout a jejich přetypování - převedení na požadovaný datový typ."
      ]
    },
    {
      "cell_type": "code",
      "execution_count": null,
      "metadata": {
        "id": "XXcDo0wHGW2Z"
      },
      "outputs": [],
      "source": [
        "! pip install PyQt5"
      ]
    },
    {
      "cell_type": "markdown",
      "metadata": {
        "id": "oE7xq3o1GW2g"
      },
      "source": [
        "Kromě QLineEdit přidáme funkci, která načte text z textového pole a změní nápis v okně na námi zadaný text. Funkci připojíme k akci kliknutí na tlačítko."
      ]
    },
    {
      "cell_type": "code",
      "execution_count": null,
      "metadata": {
        "id": "fGAnBYthGW2h"
      },
      "outputs": [],
      "source": [
        "from PyQt5 import QtWidgets\n",
        "\n",
        "app = QtWidgets.QApplication([])\n",
        "\n",
        "hlavni_okno = QtWidgets.QWidget()\n",
        "hlavni_okno.setWindowTitle('Můj supr program')\n",
        "\n",
        "usporadani = QtWidgets.QHBoxLayout()\n",
        "hlavni_okno.setLayout(usporadani)\n",
        "\n",
        "napis = QtWidgets.QLabel('Nějaký text...')\n",
        "usporadani.addWidget(napis)\n",
        "\n",
        "vstup = QtWidgets.QLineEdit()\n",
        "usporadani.addWidget(vstup)\n",
        "\n",
        "tlacitko = QtWidgets.QPushButton('Klikni na mě')\n",
        "usporadani.addWidget(tlacitko)\n",
        "\n",
        "def zmen_text():\n",
        "    vstupni_text = vstup.text() # do proměnné vstupni_text se uloží text z textového pole\n",
        "    napis.setText(f\"Toto jsi napsal: {vstupni_text}\") # Přiřazení textu\n",
        "    \n",
        "    # vstup.setText(\"\") \n",
        "    # vstupnímu poli můžeme nastavit prázdný string jako text\n",
        "    # tím \"smažeme\" původní text a při dalším zadávání ho nemusíme ručně mazat\n",
        "\n",
        "tlacitko.clicked.connect(zmen_text) # připojení funkce zmen_text k tlačítku\n",
        "\n",
        "hlavni_okno.show()\n",
        "\n",
        "app.exec()"
      ]
    },
    {
      "cell_type": "markdown",
      "metadata": {
        "id": "jKfzkViIGW2k"
      },
      "source": [
        "Aplikace před změnou textu:<br>\n",
        "<img src=\"https://raw.githubusercontent.com/JaroslavHolecek/Teaching/master/JupyterNotebook/PyQt/images/img_okno_vstup.png\"><br><br>\n",
        "Aplikace po změně textu:<br>\n",
        "<img src=\"https://raw.githubusercontent.com/JaroslavHolecek/Teaching/master/JupyterNotebook/PyQt/images/img_okno_vstup_po_zmene.png\"><br>"
      ]
    },
    {
      "cell_type": "markdown",
      "metadata": {
        "id": "1htCQoD0GW2m"
      },
      "source": [
        "## Ošetření uživatelského vstupu:\n",
        "Pokud pracujeme pouze s textem (<strong>string</strong>) nemusíme dále datové typy řešit (funkce pro čtení z QLineEdit i zápis do QLabel pracují s typem string).<br>\n",
        "Pokud, budeme chtít provádět například početní operace, musíme vstupní hodnoty převést na některý z číselných datových typů (int, float)<br>\n",
        "Při tomto převodu může nastat zásadní problém -> jak převést vstup na <strong>celé číslo</strong>, pokud uživatel zadá např. <strong>\"Nazdárek\"</strong>...<br>\n",
        "Existuje více způsobů jak se s takovou situací vypořádat (tzv. <strong>ošetřit vstup</strong>). My si ukážeme dva z nich:\n",
        "* využití <strong>validátoru</strong> knihovny PyQt5\n",
        "* napsat si vlastní ošetření pomocí <strong>try-except</strong>\n",
        "\n",
        "### Využití validátoru:\n",
        "Knihovna PyQt5 nabízí několik typů validátorů (celé číslo, desetinné číslo a regulární výraz - tím lze obecně popsat např. emailovou adresu, telefoní číslo apd.).<br>\n",
        "Validátor zajistí, že neplatná hodnota <strong>nepůjde</strong> do vstupního pole vůbec <strong>zapsat</strong>.<br>\n",
        "Použití si ukážeme na validátoru celých čísel:"
      ]
    },
    {
      "cell_type": "code",
      "execution_count": null,
      "metadata": {
        "id": "4aDFP5nkGW2o"
      },
      "outputs": [],
      "source": [
        "from PyQt5 import QtWidgets\n",
        "from PyQt5 import QtGui\n",
        "\n",
        "\n",
        "app = QtWidgets.QApplication([])\n",
        "\n",
        "hlavni_okno = QtWidgets.QWidget()\n",
        "hlavni_okno.setWindowTitle(\"Můj supr program\")\n",
        "\n",
        "usporadani = QtWidgets.QHBoxLayout()\n",
        "hlavni_okno.setLayout(usporadani)\n",
        "\n",
        "napis = QtWidgets.QLabel(\"Nějaký text...\")\n",
        "usporadani.addWidget(napis)\n",
        "\n",
        "validator_celych_cisel = QtGui.QIntValidator() # zde si vybereme konktrétní validátor\n",
        "vstup = QtWidgets.QLineEdit()\n",
        "vstup.setValidator(validator_celych_cisel) # zde aplikujeme námi zvolený validátor na textové pole\n",
        "usporadani.addWidget(vstup)\n",
        "# Nyní když spustíme aplikaci, tak do textového pole budeme moci zapsat pouze celá čísla\n",
        "\n",
        "tlacitko = QtWidgets.QPushButton(\"Klikni na mě\")\n",
        "usporadani.addWidget(tlacitko)\n",
        "\n",
        "\n",
        "def zmen_text():\n",
        "    vstupni_text = vstup.text()\n",
        "    napis.setText(f\"Toto jsi napsal: {vstupni_text}\")\n",
        "    vstup.setText(\"\")\n",
        "\n",
        "\n",
        "tlacitko.clicked.connect(zmen_text)\n",
        "\n",
        "hlavni_okno.show()\n",
        "\n",
        "app.exec()\n"
      ]
    },
    {
      "cell_type": "markdown",
      "metadata": {
        "id": "Pqj4q9CfGW2q"
      },
      "source": [
        "Aplikace před změnou textu:<br>\n",
        "<img src=\"https://raw.githubusercontent.com/JaroslavHolecek/Teaching/master/JupyterNotebook/PyQt/images/img_okno_vstup.png\"><br><br>\n",
        "Aplikace po změně textu:<br>\n",
        "<img src=\"https://raw.githubusercontent.com/JaroslavHolecek/Teaching/master/JupyterNotebook/PyQt/images/img_okno_vstup_intValidator.png\"><br>"
      ]
    },
    {
      "cell_type": "markdown",
      "metadata": {
        "id": "EpCzTQTSGW2t"
      },
      "source": [
        "### Vlastní ošetření pomocí try-except:\n",
        "Pokud chceme ošetření provést až po kliknutí na tlačítko, zapíšeme krizový kód (ten, kde očekáváme možnou chybu - zde převádení do jiného datového typu) do bloku try-except.<br>\n",
        "To nám umožní např. vypsat chybovou hlášku a aplikace může dále pokračovat:"
      ]
    },
    {
      "cell_type": "code",
      "execution_count": null,
      "metadata": {
        "id": "AG0Hko1BGW2u"
      },
      "outputs": [],
      "source": [
        "from PyQt5 import QtWidgets\n",
        "from PyQt5 import QtGui\n",
        "\n",
        "\n",
        "app = QtWidgets.QApplication([])\n",
        "\n",
        "hlavni_okno = QtWidgets.QWidget()\n",
        "hlavni_okno.setWindowTitle(\"Můj supr program\")\n",
        "\n",
        "usporadani = QtWidgets.QHBoxLayout()\n",
        "hlavni_okno.setLayout(usporadani)\n",
        "\n",
        "napis = QtWidgets.QLabel(\"Nějaký text...\")\n",
        "usporadani.addWidget(napis)\n",
        "\n",
        "vstup = QtWidgets.QLineEdit()\n",
        "usporadani.addWidget(vstup)\n",
        "\n",
        "tlacitko = QtWidgets.QPushButton(\"Klikni na mě\")\n",
        "usporadani.addWidget(tlacitko)\n",
        "\n",
        "\n",
        "def soucet():\n",
        "    vstupni_text = vstup.text()  # přečte hodnotu na vstupu a uloží si ji jako string\n",
        "    pole_souctu = vstupni_text.split(\" \") # string ze vstupu předěláme na pole, prvky pole jsou odděleny mezerou\n",
        "    vysledek = 0\n",
        "    try:\n",
        "        for prvek in pole_souctu: # pro každý prvek v poli\n",
        "            cislo = int(prvek) # převeď string na int\n",
        "            vysledek += cislo # přičti k výsledku\n",
        "\n",
        "    except ValueError: # pokud některý prvek nelze předělat na int, tzn. není číslo\n",
        "        vysledek = \"Neumím počítat s písmenky\" # chybová hláška\n",
        "\n",
        "    napis.setText(f\"Součet je {vysledek}\")\n",
        "\n",
        "\n",
        "tlacitko.clicked.connect(soucet)\n",
        "\n",
        "hlavni_okno.show()\n",
        "\n",
        "app.exec()"
      ]
    },
    {
      "cell_type": "markdown",
      "metadata": {
        "id": "yUoVnI34GW2w"
      },
      "source": [
        "Zadáme pouze čísla:<br>\n",
        "<img src=\"https://raw.githubusercontent.com/JaroslavHolecek/Teaching/master/JupyterNotebook/PyQt/images/img_okno_vstup_intValidator_tryExcept_po_zmene.png\"><br><br>\n",
        "Zadáme písmeno:<br>\n",
        "<img src=\"https://raw.githubusercontent.com/JaroslavHolecek/Teaching/master/JupyterNotebook/PyQt/images/img_okno_vstup_tryExcept_spatny_vstup.png\"><br>"
      ]
    },
    {
      "cell_type": "markdown",
      "metadata": {
        "id": "-iyX760PGW2x"
      },
      "source": [
        "## Cvičení:\n",
        "Bude následovat jedno cvičení na procvičení tohoto tématu.\n",
        "\n",
        "### Cvičení 1:\n",
        "Naprogramujte aplikaci, která podle zadaných vstupů buď sečte hodnoty, nebo je vynásobí.<br>\n",
        "Výsledek může vypadat následovně (můžete však vytvořit jakýkoukoliv podobnou).<br>\n",
        "### Cvičení 2:\n",
        "Jaké výhody/nevýhody má váš (a vzorový) příklad - v jakých chvíli nebude fungovat (chovat se nepříjemně)?<br><br>\n",
        "Sputíme aplikaci:<br>\n",
        "<img src=\"https://raw.githubusercontent.com/JaroslavHolecek/Teaching/master/JupyterNotebook/PyQt/images/img_okno_vstup_cviceni_zadani.png\"><br><br>\n",
        "Součet:<br>\n",
        "<img src=\"https://raw.githubusercontent.com/JaroslavHolecek/Teaching/master/JupyterNotebook/PyQt/images/img_okno_vstup_cviceni_zadani_soucet.png\"><br><br>\n",
        "Součin:<br>\n",
        "<img src=\"https://raw.githubusercontent.com/JaroslavHolecek/Teaching/master/JupyterNotebook/PyQt/images/img_okno_vstup_cviceni_zadani_soucin.png\">"
      ]
    },
    {
      "cell_type": "code",
      "execution_count": null,
      "metadata": {
        "id": "IH7eqITTGW2z"
      },
      "outputs": [],
      "source": [
        "# TODO: Zde přijde váš kód.\n"
      ]
    }
  ],
  "metadata": {
    "interpreter": {
      "hash": "bcd8813e51c944e999bf7108618aeb38e936e31a06e2fbc82f40b9f33ae8dee4"
    },
    "kernelspec": {
      "display_name": "Python 3.8.10 64-bit ('env': venv)",
      "language": "python",
      "name": "python3"
    },
    "language_info": {
      "codemirror_mode": {
        "name": "ipython",
        "version": 3
      },
      "file_extension": ".py",
      "mimetype": "text/x-python",
      "name": "python",
      "nbconvert_exporter": "python",
      "pygments_lexer": "ipython3",
      "version": "3.8.10"
    },
    "orig_nbformat": 4,
    "colab": {
      "name": "Uzivatelsky_vstup_zadani.ipynb",
      "provenance": [],
      "collapsed_sections": [],
      "include_colab_link": true
    }
  },
  "nbformat": 4,
  "nbformat_minor": 0
}