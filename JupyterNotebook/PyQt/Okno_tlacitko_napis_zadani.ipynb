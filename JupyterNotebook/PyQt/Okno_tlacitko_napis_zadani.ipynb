{
  "cells": [
    {
      "cell_type": "markdown",
      "metadata": {
        "id": "view-in-github",
        "colab_type": "text"
      },
      "source": [
        "<a href=\"https://colab.research.google.com/github/JaroslavHolecek/Teaching/blob/master/JupyterNotebook/PyQt/Okno_tlacitko_napis_zadani.ipynb\" target=\"_parent\"><img src=\"https://colab.research.google.com/assets/colab-badge.svg\" alt=\"Open In Colab\"/></a>"
      ]
    },
    {
      "cell_type": "markdown",
      "metadata": {
        "id": "17J61SCVlyPF"
      },
      "source": [
        "# PyQt - Vytvoření okna, vložení textu a tlačítka\n",
        "PyQt je knihovna, která umožňuje vytvářet aplikace, které se spustí v grafickém okně (ne v terminálu (pouze textově) jako jsme to dělali doposud).<br>\n",
        "\n",
        "# Ne přes GoogleColab -> kód pouštět u sebe lokálně\n",
        "Grafické aplikace mají spousutu problémů - jedním z nich je, že se zobrazují graficky -> GoogleColab nemá možnost, jak přenést grafický obraz (který vznikne na jejich počítači) do našeho prohlížeče - natož, abychom mohli zase zpět aplikaci ovládat naší myší a klávesnicí (museli bychom naše akce posílat zpět do počítače na kterém běží GoogleColab - tyto akce často záleží na poloze kurzoru myši a pod. ...)\n",
        "\n",
        "## Instalace \n",
        "<strong>Pokud</strong> na Vašem počítači knihovna <strong>není nainstalovaná</strong>, nainstalujete ji buď přes IDE, nebo v terminálu příkazem"
      ]
    },
    {
      "cell_type": "code",
      "execution_count": null,
      "metadata": {
        "id": "JM0QXzV4lyPf"
      },
      "outputs": [],
      "source": [
        "! pip install PyQt5"
      ]
    },
    {
      "cell_type": "markdown",
      "metadata": {
        "id": "-vd1zHW4lyPn"
      },
      "source": [
        "# Vytvoření okna a zobrazení textu\n",
        "Základní práce s knihovnou PyQt je velmi přímočará.\n",
        "\n",
        "<ol>\n",
        "<li> Vytvoříme objekt, který si bude pamatovat všechny informace o běžící aplikaci - zda je aktivní, zmenšená na lištu, překrytá jinou aplikací, ...\n",
        "<li> Vytvoříme hlavní okno aplikace\n",
        "<li> Na hlavní okno navážeme všechny ostatní prvky\n",
        "<li> Označíme, že má být hlavní okno viditelné\n",
        "<li> Spustíme aplikaci\n",
        "</ol>"
      ]
    },
    {
      "cell_type": "code",
      "execution_count": null,
      "metadata": {
        "id": "ecNgyz8UlyPu"
      },
      "outputs": [],
      "source": [
        "from PyQt5 import QtWidgets\n",
        "\n",
        "app = QtWidgets.QApplication([]) # inicializace aplikace\n",
        "\n",
        "hlavni_okno = QtWidgets.QWidget()  # vytvoření objektu hlavního okna\n",
        "hlavni_okno.setWindowTitle(\"Můj supr program\")  # název okna\n",
        "\n",
        "hlavni_okno.show() # okno bude viditelné\n",
        "\n",
        "app.exec() # spuštění aplikace"
      ]
    },
    {
      "cell_type": "markdown",
      "metadata": {
        "id": "_SlSZsA7lyP8"
      },
      "source": [
        "výsledek\n",
        "\n",
        "![output](https://raw.githubusercontent.com/JaroslavHolecek/Teaching/master/JupyterNotebook/PyQt/images/img_okno_prazdne.PNG)"
      ]
    },
    {
      "cell_type": "markdown",
      "metadata": {
        "id": "NH9NvEwdlyP-"
      },
      "source": [
        "## Vložení prvků do okna - text\n",
        "\n",
        "Předtím, než začneme do okna vkládat prvky, musíme zvolit, jak budou prvky rozložené (pod sebou, vedle sebe, ...).\n",
        "\n",
        "To uděláme pomocí tak zvaného Layout managera -> podrobněji se jím budeme zabývat později, nyní pouze použijeme typ pro horizontální (vedle sebe) rozložení.\n",
        "\n",
        "Vytvořený prvek vložíme do Layout managera"
      ]
    },
    {
      "cell_type": "code",
      "execution_count": null,
      "metadata": {
        "id": "UZ5EFsVnlyQC"
      },
      "outputs": [],
      "source": [
        "from PyQt5 import QtWidgets\n",
        "\n",
        "app = QtWidgets.QApplication([])\n",
        "hlavni_okno = QtWidgets.QWidget()\n",
        "hlavni_okno.setWindowTitle('Můj supr program')\n",
        "\n",
        "usporadani = QtWidgets.QHBoxLayout() # vytvoření Layout managera typu \"vedle sebe\"\n",
        "hlavni_okno.setLayout(usporadani) # nastavení Layout managera našemu hlavnímu oknu\n",
        "\n",
        "napis = QtWidgets.QLabel('Nějaký text...')  # vytvoření objektu pro zobrazení textu\n",
        "usporadani.addWidget(napis) # vložení nápisu (objektu, který zobrazuje nápis) do Layout managera\n",
        "\n",
        "hlavni_okno.show() \n",
        "app.exec()\n"
      ]
    },
    {
      "cell_type": "markdown",
      "metadata": {
        "id": "HTd3NRz_lyQE"
      },
      "source": [
        "výsledek\n",
        "\n",
        "![output](https://raw.githubusercontent.com/JaroslavHolecek/Teaching/master/JupyterNotebook/PyQt/images/img_okno_text.PNG)"
      ]
    },
    {
      "cell_type": "markdown",
      "metadata": {
        "id": "GHfCD-sSlyQG"
      },
      "source": [
        "## tlačítko\n",
        "Pouze se zobrazováním textu (navíc pevně daného) se obvykle nespokojíme. Přidáme proto tlačítko pro interakci. Zatím bude tlačítko \"mrtvé\" - není k němu připojena žádná akce -> tomu se budeme věnovat později."
      ]
    },
    {
      "cell_type": "code",
      "execution_count": null,
      "metadata": {
        "id": "lOATiKSDlyQN"
      },
      "outputs": [],
      "source": [
        "from PyQt5 import QtWidgets\n",
        "\n",
        "app = QtWidgets.QApplication([])\n",
        "\n",
        "hlavni_okno = QtWidgets.QWidget()\n",
        "hlavni_okno.setWindowTitle('Můj supr program')\n",
        "\n",
        "usporadani = QtWidgets.QHBoxLayout()\n",
        "hlavni_okno.setLayout(usporadani)\n",
        "\n",
        "napis = QtWidgets.QLabel('Nějaký text...')\n",
        "usporadani.addWidget(napis)\n",
        "\n",
        "tlacitko = QtWidgets.QPushButton('Klikni na mě')  # vytvoření objektu tlačítko\n",
        "usporadani.addWidget(tlacitko)  # vložení tlačítka do Layout managera\n",
        "\n",
        "hlavni_okno.show()\n",
        "app.exec()\n"
      ]
    },
    {
      "cell_type": "markdown",
      "metadata": {
        "id": "vQJYJZ2HlyQS"
      },
      "source": [
        "výsledek\n",
        "\n",
        "![output](https://raw.githubusercontent.com/JaroslavHolecek/Teaching/master/JupyterNotebook/PyQt/images/img_okno_text_tlacitko.PNG)"
      ]
    },
    {
      "cell_type": "markdown",
      "metadata": {
        "id": "sXNIVsRRlyQV"
      },
      "source": [
        "## Cvičení:\n",
        "### Cvičení 1:\n",
        "Za pomocí knihovny PyQt5 vytvořte program jehož výstupem bude tato aplikace.<br>\n",
        "__Výstup:__\n",
        "\n",
        "![output](https://raw.githubusercontent.com/JaroslavHolecek/Teaching/master/JupyterNotebook/PyQt/images/img_okno_cviceni_tlacitko_text.PNG)"
      ]
    },
    {
      "cell_type": "code",
      "execution_count": null,
      "metadata": {
        "id": "W3xdkbfelyQW"
      },
      "outputs": [],
      "source": [
        "from PyQt5 import QtWidgets\n",
        "\n",
        "# TODO: Zde přijde váš kód ->\n"
      ]
    }
  ],
  "metadata": {
    "interpreter": {
      "hash": "c796eb3e3b883799f02af01b49c30e973f5d9f6ae7feb75a7f340683beca589a"
    },
    "kernelspec": {
      "display_name": "Python 3.10.0 64-bit (system)",
      "language": "python",
      "name": "python3"
    },
    "language_info": {
      "codemirror_mode": {
        "name": "ipython",
        "version": 3
      },
      "file_extension": ".py",
      "mimetype": "text/x-python",
      "name": "python",
      "nbconvert_exporter": "python",
      "pygments_lexer": "ipython3",
      "version": "3.10.1"
    },
    "orig_nbformat": 4,
    "colab": {
      "name": "Okno_tlacitko_napis_zadani.ipynb",
      "provenance": [],
      "collapsed_sections": [],
      "include_colab_link": true
    }
  },
  "nbformat": 4,
  "nbformat_minor": 0
}