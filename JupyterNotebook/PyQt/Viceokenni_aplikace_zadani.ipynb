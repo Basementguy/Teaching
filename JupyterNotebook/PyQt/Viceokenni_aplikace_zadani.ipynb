{
  "cells": [
    {
      "cell_type": "markdown",
      "metadata": {
        "id": "view-in-github",
        "colab_type": "text"
      },
      "source": [
        "<a href=\"https://colab.research.google.com/github/JaroslavHolecek/Teaching/blob/master/JupyterNotebook/PyQt/Viceokenni_aplikace_zadani.ipynb\" target=\"_parent\"><img src=\"https://colab.research.google.com/assets/colab-badge.svg\" alt=\"Open In Colab\"/></a>"
      ]
    },
    {
      "cell_type": "markdown",
      "metadata": {
        "id": "Cd1Z8qfJZqyb"
      },
      "source": [
        "# Víceokenní aplikace\n",
        "V součastné době víme jak vytvořit jednoduchou jednookení aplikaci, to nám ale ne vždy vyhovuje."
      ]
    },
    {
      "cell_type": "code",
      "execution_count": null,
      "metadata": {
        "id": "ZtvNsAahZqyh"
      },
      "outputs": [],
      "source": [
        "! pip install PyQt5"
      ]
    },
    {
      "cell_type": "markdown",
      "metadata": {
        "id": "sT3qJZB8Zqyl"
      },
      "source": [
        "## Zobrazení\n",
        "Doposud jsme kód jednookenní aplikace nezapisovali pomocí <a href=\"https://github.com/JaroslavHolecek/Teaching/blob/master/JupyterNotebook/Python/OOP_trida_objekt_atribut_metoda_zadani.ipynb\">tříd</a>, protože to nebylo potřeba a vše fungovalo, tak jak mělo.<br/>\n",
        "U víceokenních aplikací si již s předchozím jednoduchým postupem nevystačíme a třídy musíme využít. Jednotlivá okna budeme rozlišovat do samostatných tříd (např. Hlavniokno, VedlejsiOkno). Jednak protože má každé okno jiné parametry, funkce, atd. a druhak bude kód výrazně přehlednější.<br>\n",
        "Kód pro vytvoření víceokenní aplikace může vypadat následovně:"
      ]
    },
    {
      "cell_type": "code",
      "execution_count": null,
      "metadata": {
        "id": "duyvmO99Zqyo"
      },
      "outputs": [],
      "source": [
        "from PyQt5.QtWidgets import (\n",
        "    QApplication,\n",
        "    QPushButton,\n",
        "    QLabel,\n",
        "    QVBoxLayout,\n",
        "    QWidget,\n",
        ")\n",
        "\n",
        "\n",
        "class HlavniOkno(QWidget):\n",
        "    \"\"\"Hlavní okno naší aplikace.\n",
        "\n",
        "    Args:\n",
        "        QWidget (class): Tento argument přidáváme,\n",
        "        abychom rozšířili, to co naše třída umí.\n",
        "        Říkáme tím, že naše HlavniOkno je QWidget (tedy umí vše, co umí QWidget)\n",
        "        a může k němu přidat i něco navíc\n",
        "    \"\"\"\n",
        "\n",
        "    def __init__(self):\n",
        "        \"\"\"Tato funkce se zavolá v momentě,\n",
        "        kdy vytvoříme instanci třídy HlavniOkno (zapíšeme, že chceme vytvořit objekt typu HlavniOkno).\n",
        "        Do této funkce dáme vše co jsme u aplikací určovali:\n",
        "        * rozložení atributů\n",
        "        * přidávání atributů\n",
        "        * přiřazování funkcí k atributům\n",
        "        \"\"\"\n",
        "        QWidget.__init__(self) # vytoříme QWidget\n",
        "        # a přidáme naše prvky\n",
        "        self.rozlozeni = QVBoxLayout()\n",
        "        self.tlacitko = QPushButton(\"Stiskni pro nové okno\")\n",
        "        self.rozlozeni.addWidget(self.tlacitko)\n",
        "        self.setLayout(self.rozlozeni)\n",
        "        self.tlacitko.clicked.connect(self.vyrob_nove_okno)\n",
        "\n",
        "    def vyrob_nove_okno(self):\n",
        "        \"\"\"Tato funkce je zodpovědná za vytvoření a zobrazení,\n",
        "        nového okna. V tomto případě okna třídy (typu) VedlejsiOkno.\n",
        "        \"\"\"\n",
        "        self.okno = VedlejsiOkno()\n",
        "        self.okno.show()\n",
        "\n",
        "\n",
        "class VedlejsiOkno(QWidget):\n",
        "    \"\"\"Vedlejší okno naší aplikace.\n",
        "    Instance této třídy se vytvoří, až poté co klikneme na tlačítko v hlavním okně\n",
        "\n",
        "    Args:\n",
        "        QWidget (class): Tento argument přidáváme,\n",
        "        abychom rozšířili, to co naše třída umí.\n",
        "        Říkáme tím, že naše VedlejsiOkno je QWidget (tedy umí vše, co umí QWidget)\n",
        "        a může k němu přidat i něco navíc\n",
        "    \"\"\"\n",
        "\n",
        "    def __init__(self):\n",
        "        \"\"\"Tato funkce se zavolá v momentě,\n",
        "        kdy vytvoříme instanci třídy VedlejsiOkno.\n",
        "        Do této funkce dáme všechno co jsme u aplikací určovali:\n",
        "        * rozložení atributů\n",
        "        * přidávání atributů\n",
        "        * přiřazování funkcí k atributům\n",
        "        \"\"\"\n",
        "        QWidget.__init__(self)\n",
        "        self.rozlozeni = QVBoxLayout()\n",
        "        self.text = QLabel(\"Nové okno\")\n",
        "        self.rozlozeni.addWidget(self.text)\n",
        "        self.setLayout(self.rozlozeni)\n",
        "\n",
        "\n",
        "# jediné co zbývá je vytvořit aplikaci a instanci (objekt) hlavního okna\n",
        "app = QApplication([])\n",
        "okno = HlavniOkno()\n",
        "okno.show()\n",
        "app.exec()\n"
      ]
    },
    {
      "cell_type": "markdown",
      "metadata": {
        "id": "GqU-dfInZqyt"
      },
      "source": [
        "Aplikace před kliknutím na tlačítko:<br>\n",
        "<img src=\"https://raw.githubusercontent.com/JaroslavHolecek/Teaching/master/JupyterNotebook/PyQt/images/img_viceokenni_tlacitko.png\"><br><br>\n",
        "Aplikace po kliknutí na tlačítko:<br>\n",
        "<img src=\"https://raw.githubusercontent.com/JaroslavHolecek/Teaching/master/JupyterNotebook/PyQt/images/img_viceokenni_tlacitko_2_okna.png\"><br><br>\n",
        "\n",
        "## Přidání funkcí\n",
        "Nyní jsme u zobrazování a naše aplikace nic dalšího neumí. Pojďme tedy upravit program tak, aby VedlejsiOkno umělo sčítat."
      ]
    },
    {
      "cell_type": "code",
      "execution_count": null,
      "metadata": {
        "id": "ieh8ASXBZqyx"
      },
      "outputs": [],
      "source": [
        "from PyQt5.QtWidgets import (\n",
        "    QApplication,\n",
        "    QPushButton,\n",
        "    QLabel,\n",
        "    QVBoxLayout,\n",
        "    QWidget,\n",
        "    QLineEdit,\n",
        ")\n",
        "\n",
        "\n",
        "class HlavniOkno(QWidget):\n",
        "    def __init__(self):\n",
        "        super().__init__() # toto je zkrácený zápis stejného řádku v předchozí ukázce ḱódu\n",
        "        self.rozlozeni = QVBoxLayout()\n",
        "        self.tlacitko = QPushButton(\"Stiskni pro nové okno\")\n",
        "        self.rozlozeni.addWidget(self.tlacitko)\n",
        "        self.setLayout(self.rozlozeni)\n",
        "        self.tlacitko.clicked.connect(self.vyrob_nove_okno)\n",
        "\n",
        "    def vyrob_nove_okno(self):\n",
        "        self.okno = VedlejsiOkno()\n",
        "        self.okno.show()\n",
        "\n",
        "\n",
        "class VedlejsiOkno(QWidget):\n",
        "    def __init__(self):\n",
        "        \"\"\"Tuto funkci rozšíříme o potřebné atributy\"\"\"\n",
        "        super().__init__()  # toto je zkrácený zápis stejného řádku v předchozí ukázce ḱódu\n",
        "        self.rozlozeni = QVBoxLayout()\n",
        "        self.text = QLabel(\"Součet je \")\n",
        "        self.rozlozeni.addWidget(self.text)\n",
        "\n",
        "        # přidáme možnost vstupu\n",
        "        self.vstup = QLineEdit()\n",
        "        self.rozlozeni.addWidget(self.vstup)\n",
        "\n",
        "        # přidáme tlačítko a propojíme ho s funkcí soucet\n",
        "        self.tlacitko = QPushButton(\"Stiskni pro součet\")\n",
        "        self.tlacitko.clicked.connect(self.soucet)\n",
        "        self.rozlozeni.addWidget(self.tlacitko)\n",
        "\n",
        "        self.setLayout(self.rozlozeni)\n",
        "\n",
        "    def soucet(self: str) -> str:\n",
        "        \"\"\"Vytvoříme si funkci pro součet.\n",
        "\n",
        "        Args:\n",
        "            self (str): Námi zadaná čísla\n",
        "\n",
        "        Returns:\n",
        "            str: Výsledek\n",
        "        \"\"\"\n",
        "        vstupni_text = self.vstup.text()  # přečte hodnotu na vstupu a uloží si ji jako string\n",
        "        pole_souctu = vstupni_text.split(\" \") # string ze vstupu předěláme na pole, prvky pole jsou odděleny mezerou\n",
        "        vysledek = 0\n",
        "        try:\n",
        "            for prvek in pole_souctu: # pro každý prvek v poli\n",
        "                cislo = int(prvek) # převeď string na int\n",
        "                vysledek += cislo # přičti k výsledku\n",
        "\n",
        "        except ValueError: # pokud nějaký prvek nelze předělat na int, tzn. není číslo\n",
        "            vysledek = \"Neumím počítat s písmenkama\" # chybová hláška\n",
        "\n",
        "        self.text.setText(f\"Součet je {vysledek}\")\n",
        "\n",
        "\n",
        "app = QApplication([])\n",
        "okno = HlavniOkno()\n",
        "okno.show()\n",
        "app.exec()\n"
      ]
    },
    {
      "cell_type": "markdown",
      "metadata": {
        "id": "ISJKasN1Zqyz"
      },
      "source": [
        "Aplikace před kliknutím na tlačítko:<br>\n",
        "<img src=\"https://raw.githubusercontent.com/JaroslavHolecek/Teaching/master/JupyterNotebook/PyQt/images/img_viceokenni_tlacitko.png\"><br><br>\n",
        "Aplikace po kliknutí na tlačítko:<br>\n",
        "<img src=\"https://raw.githubusercontent.com/JaroslavHolecek/Teaching/master/JupyterNotebook/PyQt/images/img_viceokenni_tlacitko_scitani.png\"><br><br>"
      ]
    },
    {
      "cell_type": "markdown",
      "metadata": {
        "id": "j_ren7v9Zqy0"
      },
      "source": [
        "## Cvičení\n",
        "Úkolem pro tento notebook je vytvořit script, který při spuštění zobrazí okno s 2 tlačítky, pomocí kterých si vyberu zda chci sčítat, nebo násobit. Po kliknutí na jedno z tlačítek se zobrazí nové okno, které mi umožní provést zvolenou operaci<br>\n",
        "Výsledek může vypadat následovně:<br>\n",
        "\n",
        "Hlavní okno aplikace:<br>\n",
        "<img src=\"https://raw.githubusercontent.com/JaroslavHolecek/Teaching/master/JupyterNotebook/PyQt/images/img_viceokenni_cviceni_hlavni_okno.png\"><br><br>\n",
        "Okno pro sčítání:<br>\n",
        "<img src=\"https://raw.githubusercontent.com/JaroslavHolecek/Teaching/master/JupyterNotebook/PyQt/images/img_viceokenni_cviceni_scitaci_okno.png\"><br><br>\n",
        "Okno pro násobení:<br>\n",
        "<img src=\"https://raw.githubusercontent.com/JaroslavHolecek/Teaching/master/JupyterNotebook/PyQt/images/img_viceokenni_cviceni_soucinove_okno.png\"><br><br>"
      ]
    },
    {
      "cell_type": "code",
      "execution_count": null,
      "metadata": {
        "id": "rpqJXpR-Zqy3"
      },
      "outputs": [],
      "source": [
        "from PyQt5.QtWidgets import (\n",
        "    QApplication,\n",
        "    QPushButton,\n",
        "    QLabel,\n",
        "    QVBoxLayout,\n",
        "    QWidget,\n",
        "    QLineEdit,\n",
        ")\n",
        "\n",
        "#TODO: Zde přijde váš kód\n",
        "\n"
      ]
    }
  ],
  "metadata": {
    "language_info": {
      "name": "python"
    },
    "orig_nbformat": 4,
    "colab": {
      "name": "Viceokenni_aplikace_zadani.ipynb",
      "provenance": [],
      "collapsed_sections": [],
      "include_colab_link": true
    }
  },
  "nbformat": 4,
  "nbformat_minor": 0
}