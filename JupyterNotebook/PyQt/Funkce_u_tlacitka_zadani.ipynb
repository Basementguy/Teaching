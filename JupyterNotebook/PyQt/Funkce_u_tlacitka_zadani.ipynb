{
  "cells": [
    {
      "cell_type": "markdown",
      "metadata": {
        "id": "view-in-github",
        "colab_type": "text"
      },
      "source": [
        "<a href=\"https://colab.research.google.com/github/JaroslavHolecek/Teaching/blob/master/JupyterNotebook/PyQt/Funkce_u_tlacitka_zadani.ipynb\" target=\"_parent\"><img src=\"https://colab.research.google.com/assets/colab-badge.svg\" alt=\"Open In Colab\"/></a>"
      ]
    },
    {
      "cell_type": "markdown",
      "metadata": {
        "id": "9jJC9AQWHtum"
      },
      "source": [
        "# Funkce u tlačítek\n",
        "Nyní již víme jak vytvořit grafické okno a přidat do něj text a tlačítko, ukážeme si jak přiřadit tlačítku funkci - tedy se po jeho stisknutí \"něco stane\". <br>"
      ]
    },
    {
      "cell_type": "markdown",
      "metadata": {
        "id": "NqCPVOdhHtut"
      },
      "source": [
        "! pip install PyQt5"
      ]
    },
    {
      "cell_type": "markdown",
      "metadata": {
        "id": "rZyUk6lSHtuy"
      },
      "source": [
        "Vytvoříme jednoduché okno s textem a tlačítkem."
      ]
    },
    {
      "cell_type": "code",
      "execution_count": null,
      "metadata": {
        "id": "BcxpWwibHtu2"
      },
      "outputs": [],
      "source": [
        "from PyQt5 import QtWidgets\n",
        "\n",
        "app = QtWidgets.QApplication([])  # inicializace aplikace\n",
        "\n",
        "hlavni_okno = QtWidgets.QWidget()  # vytvoření objektu hlavního okna\n",
        "hlavni_okno.setWindowTitle('Můj supr program')  # název okna\n",
        "\n",
        "usporadani = QtWidgets.QHBoxLayout()  # vytvoření Layout managera typu \"vedle sebe\"\n",
        "hlavni_okno.setLayout(usporadani)  # nastavení Layout managera našemu hlavnímu oknu\n",
        "\n",
        "napis = QtWidgets.QLabel('Nějaký text...')  # samotný text\n",
        "usporadani.addWidget(napis)  # přiřazení nápisu k zvolenému uspořádání\n",
        "\n",
        "tlacitko = QtWidgets.QPushButton('Klikni na mě')  # tlačítko\n",
        "usporadani.addWidget(tlacitko)  # přiřazení tlačítka k zvolenému uspořádání\n",
        "\n",
        "hlavni_okno.show()  # okno bude viditelné\n",
        "\n",
        "app.exec() # spuštění aplikace\n"
      ]
    },
    {
      "cell_type": "markdown",
      "metadata": {
        "id": "KfV6SuGJHtu9"
      },
      "source": [
        "<b>Výsledek</b><br><br>\n",
        "<img src=\"https://raw.githubusercontent.com/JaroslavHolecek/Teaching/master/JupyterNotebook/PyQt/images/img_okno_tlacitko_text_pred_zmenou.PNG\">"
      ]
    },
    {
      "cell_type": "markdown",
      "metadata": {
        "id": "PF-rFY8_HtvA"
      },
      "source": [
        "Nyní tento kód pozměníme tak, aby se při zmáčknutí tlačítka změmil text \"Nějaký text\" na \"Změnil jsem text\"."
      ]
    },
    {
      "cell_type": "code",
      "execution_count": null,
      "metadata": {
        "id": "OODWyWWSHtvI"
      },
      "outputs": [],
      "source": [
        "from PyQt5 import QtWidgets\n",
        "\n",
        "app = QtWidgets.QApplication([])\n",
        "\n",
        "hlavni_okno = QtWidgets.QWidget()\n",
        "hlavni_okno.setWindowTitle(\"Můj supr program\")\n",
        "\n",
        "usporadani = QtWidgets.QHBoxLayout()\n",
        "hlavni_okno.setLayout(usporadani)\n",
        "\n",
        "napis = QtWidgets.QLabel(\"Nějaký text...\")\n",
        "usporadani.addWidget(napis)\n",
        "\n",
        "tlacitko = QtWidgets.QPushButton(\"Klikni na mě\")\n",
        "usporadani.addWidget(tlacitko)\n",
        "\n",
        "# Funkce, která je zodpovědná za změnu textu\n",
        "def zmen_text():\n",
        "    novy_text = \"Změnil jsem text\"  # Text, který se zobrazí místo stávajícího\n",
        "    napis.setText(novy_text)  # Přiřazení textu\n",
        "\n",
        "tlacitko.clicked.connect(zmen_text)  # připojení funkce zmen_text k tlačítku\n",
        "# Vsimněte si, že funkci zmen_text() vkládáme do connect() bez závorek\n",
        "# 1) Zkuste odhadnout proč\n",
        "# 2) Zkuste si spustit:\n",
        "# print(novy_text()) # se závorkami\n",
        "# print(novy_text) # bez závorek\n",
        "\n",
        "hlavni_okno.show()\n",
        "\n",
        "app.exec()\n"
      ]
    },
    {
      "cell_type": "markdown",
      "metadata": {
        "id": "fkeCG_aHHtvO"
      },
      "source": [
        "<b>Výsledek před zmáčknutím</b><br>\n",
        "<img src=\"https://raw.githubusercontent.com/JaroslavHolecek/Teaching/master/JupyterNotebook/PyQt/images/img_okno_tlacitko_text_pred_zmenou.PNG\"><br><br>\n",
        "<b>Výsledek po zmáčknutí</b><br>.\n",
        "<img src=\"https://raw.githubusercontent.com/JaroslavHolecek/Teaching/master/JupyterNotebook/PyQt/images/img_okno_tlacitko_text_po_zmene.PNG\">"
      ]
    },
    {
      "cell_type": "markdown",
      "metadata": {
        "id": "16MvRoQ4HtvR"
      },
      "source": [
        "## Cvičení:\n",
        "Bude následovat pár cvičení na procvičení tohoto tématu.\n",
        "### Cvičení 1:\n",
        "Za pomocí knihovny PyQt5 vytvořte program jehož výstupem bude tato aplikace.<br>\n",
        "<b>Před kliknutím:</b><br>\n",
        "<img src=\"https://raw.githubusercontent.com/JaroslavHolecek/Teaching/master/JupyterNotebook/PyQt/images/img_okno_tlacitko_pred_zmenou_nadpisu.PNG\"><br><br>\n",
        "<b>Po kliknutí:</b><br>\n",
        "<img src=\"https://raw.githubusercontent.com/JaroslavHolecek/Teaching/master/JupyterNotebook/PyQt/images/img_okno_tlacitko_po_zmene_nadpisu.PNG\">\n"
      ]
    },
    {
      "cell_type": "code",
      "source": [
        ""
      ],
      "metadata": {
        "id": "QTmdN5vfN3ek"
      },
      "execution_count": null,
      "outputs": []
    },
    {
      "cell_type": "markdown",
      "metadata": {
        "id": "xNTVkHn-HtvT"
      },
      "source": [
        "## Cvičení 2:\n",
        "Upravte kód tak, aby se při stisknutí tlačítka změnil text na jeden náhodně vybraný z 5 textů (texty si vymyslete Vy).\n",
        "\n",
        "Pro náhodný výběr použijte funkci `choice` z knihovny `random`"
      ]
    },
    {
      "cell_type": "code",
      "execution_count": null,
      "metadata": {
        "id": "mlJ8MQmNHtvV"
      },
      "outputs": [],
      "source": [
        "from PyQt5 import QtWidgets\n",
        "import random\n",
        "\n",
        "app = QtWidgets.QApplication([])\n",
        "\n",
        "hlavni_okno = QtWidgets.QWidget()\n",
        "hlavni_okno.setWindowTitle(\"Můj supr program\")\n",
        "\n",
        "usporadani = QtWidgets.QHBoxLayout()\n",
        "hlavni_okno.setLayout(usporadani)\n",
        "\n",
        "napis = QtWidgets.QLabel(\"Nějaký text...\")\n",
        "usporadani.addWidget(napis)\n",
        "\n",
        "tlacitko = QtWidgets.QPushButton(\"Klikni na mě\")\n",
        "usporadani.addWidget(tlacitko)\n",
        "\n",
        "def zmen_text():\n",
        "    pass\n",
        "\n",
        "tlacitko.clicked.connect(zmen_text)\n",
        "\n",
        "hlavni_okno.show()\n",
        "\n",
        "app.exec()"
      ]
    }
  ],
  "metadata": {
    "language_info": {
      "name": "python"
    },
    "orig_nbformat": 4,
    "colab": {
      "name": "Funkce_u_tlacitka_zadani.ipynb",
      "provenance": [],
      "collapsed_sections": [],
      "include_colab_link": true
    },
    "kernelspec": {
      "name": "python3",
      "display_name": "Python 3"
    }
  },
  "nbformat": 4,
  "nbformat_minor": 0
}