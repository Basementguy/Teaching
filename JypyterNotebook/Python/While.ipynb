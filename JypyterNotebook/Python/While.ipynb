{
  "nbformat": 4,
  "nbformat_minor": 0,
  "metadata": {
    "colab": {
      "name": "Untitled0.ipynb",
      "provenance": [],
      "collapsed_sections": [],
      "authorship_tag": "ABX9TyNyZ8x/Xk++CycAaE5dKs23",
      "include_colab_link": true
    },
    "kernelspec": {
      "name": "python3",
      "display_name": "Python 3"
    },
    "language_info": {
      "name": "python"
    }
  },
  "cells": [
    {
      "cell_type": "markdown",
      "metadata": {
        "id": "view-in-github",
        "colab_type": "text"
      },
      "source": [
        "<a href=\"https://colab.research.google.com/github/JaroslavHolecek/Teaching/blob/master/JypyterNotebook/Python/While.ipynb\" target=\"_parent\"><img src=\"https://colab.research.google.com/assets/colab-badge.svg\" alt=\"Open In Colab\"/></a>"
      ]
    },
    {
      "cell_type": "markdown",
      "metadata": {
        "id": "0Emcs3DswX_h"
      },
      "source": [
        "<h1>While</h1>\n",
        "<p>Řídící struktura \"while\" je takzvaný cyklus.<br>Cyklus, jak název napovídá, opakuje část kódu (skupinu příkazů) stále dokola. Hodí se tedy tam, kde chceme stejnou skupinu příkazů provést opakovaně.</p>\n",
        "<p>Během jednotlivých \"koleček\" (průběhů cyklem) se samozřejmě může měnit hodnota různých proměnných, a tak se v každém průběhu cyklem může výsledek operací lišit.</p>"
      ]
    },
    {
      "cell_type": "markdown",
      "metadata": {
        "id": "CvOwZNtFyURp"
      },
      "source": [
        "<h2>Syntaxe a sémantika</h2>\n",
        "<p>Syntaxe while cyklu vypadá následovně:</p>\n",
        "<pre>while podmínka:\n",
        "  příkaz\n",
        "  případně další příkaz\n",
        "  a ještě další příkaz</pre>"
      ]
    },
    {
      "cell_type": "code",
      "metadata": {
        "id": "SC8t1s_WwVSf"
      },
      "source": [
        ""
      ],
      "execution_count": null,
      "outputs": []
    },
    {
      "cell_type": "markdown",
      "metadata": {
        "id": "KMQR0XLpwWlB"
      },
      "source": [
        ""
      ]
    }
  ]
}